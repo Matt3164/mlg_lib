{
 "cells": [
  {
   "cell_type": "markdown",
   "metadata": {},
   "source": [
    "# How to train a patch based ML model on FMNIST\n",
    "> Testing patch approaches on FMNIST"
   ]
  },
  {
   "cell_type": "code",
   "execution_count": null,
   "metadata": {},
   "outputs": [
    {
     "name": "stdout",
     "output_type": "stream",
     "text": [
      "CPU times: user 21.7 s, sys: 1.2 s, total: 22.9 s\n",
      "Wall time: 23 s\n"
     ]
    }
   ],
   "source": [
    "%%time\n",
    "from sklearn.datasets import fetch_openml\n",
    "from sklearn.model_selection import train_test_split\n",
    "\n",
    "data = fetch_openml(\"Fashion-MNIST\", data_home=\"/home/matthieu/sklearn_data\")\n",
    "\n",
    "X = data[\"data\"].reshape(-1,28,28)\n",
    "Y = data[\"target\"]\n",
    "\n",
    "xtrain, xtest, ytrain, ytest = train_test_split(X, Y, train_size=60000, random_state=13)"
   ]
  },
  {
   "cell_type": "code",
   "execution_count": null,
   "metadata": {},
   "outputs": [],
   "source": [
    "from mlg_lib.ml_utils import PatchTransform, LambdaRow\n",
    "from mlg_lib.imgfeat import flatten\n",
    "from sklearn.pipeline import make_pipeline\n",
    "from sklearn.ensemble import RandomTreesEmbedding, RandomForestClassifier\n",
    "from sklearn.decomposition import PCA\n",
    "from sklearn.preprocessing import StandardScaler\n",
    "from mlg_lib.ml_utils import sk_train\n",
    "from sklearn.metrics import accuracy_score, confusion_matrix"
   ]
  },
  {
   "cell_type": "code",
   "execution_count": null,
   "metadata": {},
   "outputs": [],
   "source": [
    "pipeline = make_pipeline(\n",
    "    PatchTransform(transformer=make_pipeline(\n",
    "                                LambdaRow(flatten),\n",
    "                                StandardScaler(),\n",
    "                                PCA(n_components=8)\n",
    "                            ),\n",
    "               patch_size=8,\n",
    "               stride=8,\n",
    "               max_patches=10\n",
    "              ),\n",
    "    RandomForestClassifier(max_depth=None, max_features=\"log2\", n_estimators=100)\n",
    ")"
   ]
  },
  {
   "cell_type": "code",
   "execution_count": null,
   "metadata": {},
   "outputs": [],
   "source": [
    "out = sk_train(xtrain, xtest, ytrain, ytest, pipeline, metrics=dict(cm=confusion_matrix, acc=accuracy_score).items())"
   ]
  },
  {
   "cell_type": "code",
   "execution_count": null,
   "metadata": {},
   "outputs": [
    {
     "name": "stdout",
     "output_type": "stream",
     "text": [
      "TrainingOutput(model=Pipeline(memory=None,\n",
      "         steps=[('patchtransform',\n",
      "                 PatchTransform(max_patches=10, patch_size=8, stride=8,\n",
      "                                transformer=Pipeline(memory=None,\n",
      "                                                     steps=[('lambdarow',\n",
      "                                                             LambdaRow(row_func=<function flatten at 0x7f75a09d0378>)),\n",
      "                                                            ('standardscaler',\n",
      "                                                             StandardScaler(copy=True,\n",
      "                                                                            with_mean=True,\n",
      "                                                                            with_std=True)),\n",
      "                                                            ('pca',\n",
      "                                                             PCA(copy=True,\n",
      "                                                                 iterated_power='auto',\n",
      "                                                                 n_components=8,\n",
      "                                                                 random_state...\n",
      "                 RandomForestClassifier(bootstrap=True, class_weight=None,\n",
      "                                        criterion='gini', max_depth=None,\n",
      "                                        max_features='log2',\n",
      "                                        max_leaf_nodes=None,\n",
      "                                        min_impurity_decrease=0.0,\n",
      "                                        min_impurity_split=None,\n",
      "                                        min_samples_leaf=1, min_samples_split=2,\n",
      "                                        min_weight_fraction_leaf=0.0,\n",
      "                                        n_estimators=100, n_jobs=None,\n",
      "                                        oob_score=False, random_state=None,\n",
      "                                        verbose=0, warm_start=False))],\n",
      "         verbose=False), metrics={'train_cm': array([[6019,    0,    0,    0,    0,    0,    0,    0,    0,    0],\n",
      "       [   0, 5964,    0,    0,    0,    0,    0,    0,    0,    0],\n",
      "       [   0,    0, 5955,    0,    0,    0,    0,    0,    0,    0],\n",
      "       [   0,    0,    0, 5988,    0,    0,    0,    0,    0,    0],\n",
      "       [   0,    0,    0,    0, 6028,    0,    0,    0,    0,    0],\n",
      "       [   0,    0,    0,    0,    0, 6007,    0,    0,    0,    0],\n",
      "       [   0,    0,    0,    0,    0,    0, 6009,    0,    0,    0],\n",
      "       [   0,    0,    0,    0,    0,    0,    0, 6003,    0,    0],\n",
      "       [   0,    0,    0,    0,    0,    0,    0,    0, 6004,    0],\n",
      "       [   0,    0,    0,    0,    0,    0,    0,    0,    0, 6023]]), 'train_acc': 1.0, 'test_cm': array([[839,   1,  18,  38,   6,   1,  64,   0,  14,   0],\n",
      "       [  5, 980,   9,  37,   2,   0,   3,   0,   0,   0],\n",
      "       [  6,   1, 847,  11, 104,   0,  72,   0,   4,   0],\n",
      "       [ 23,   7,  15, 923,  25,   0,  17,   0,   2,   0],\n",
      "       [  1,   1,  61,  48, 797,   0,  60,   0,   4,   0],\n",
      "       [  0,   0,   0,   0,   0, 945,   0,  37,   2,   9],\n",
      "       [174,   1, 122,  34,  93,   0, 554,   0,  13,   0],\n",
      "       [  0,   0,   0,   0,   0,  33,   0, 927,   2,  35],\n",
      "       [  4,   0,   7,   8,   4,   4,  10,   1, 955,   3],\n",
      "       [  0,   0,   0,   0,   0,  15,   0,  37,   0, 925]]), 'test_acc': 0.8692})\n"
     ]
    }
   ],
   "source": [
    "print(out)"
   ]
  },
  {
   "cell_type": "code",
   "execution_count": null,
   "metadata": {},
   "outputs": [
    {
     "name": "stdout",
     "output_type": "stream",
     "text": [
      "CPU times: user 525 µs, sys: 26 µs, total: 551 µs\n",
      "Wall time: 562 µs\n"
     ]
    }
   ],
   "source": [
    "%%time\n",
    "\n",
    "pipeline = make_pipeline(\n",
    "    PatchTransform(transformer=make_pipeline(\n",
    "                                LambdaRow(flatten),\n",
    "                                RandomTreesEmbedding(max_depth=2, n_estimators=32, sparse_output=False),\n",
    "                            ),\n",
    "               patch_size=8,\n",
    "               stride=8,\n",
    "               max_patches=4\n",
    "              ),\n",
    "    RandomForestClassifier(max_depth=None, max_features=\"log2\", n_estimators=100, n_jobs=-1)\n",
    ")"
   ]
  },
  {
   "cell_type": "code",
   "execution_count": null,
   "metadata": {},
   "outputs": [
    {
     "name": "stdout",
     "output_type": "stream",
     "text": [
      "CPU times: user 11min 53s, sys: 2.56 s, total: 11min 56s\n",
      "Wall time: 11min 56s\n"
     ]
    }
   ],
   "source": [
    "%%time\n",
    "out = sk_train(xtrain, xtest, ytrain, ytest, pipeline, metrics=dict(cm=confusion_matrix, acc=accuracy_score).items())"
   ]
  },
  {
   "cell_type": "code",
   "execution_count": null,
   "metadata": {},
   "outputs": [
    {
     "name": "stdout",
     "output_type": "stream",
     "text": [
      "TrainingOutput(model=Pipeline(memory=None,\n",
      "         steps=[('patchtransform',\n",
      "                 PatchTransform(max_patches=4, patch_size=8, stride=8,\n",
      "                                transformer=Pipeline(memory=None,\n",
      "                                                     steps=[('lambdarow',\n",
      "                                                             LambdaRow(row_func=<function flatten at 0x7f99d85cd950>)),\n",
      "                                                            ('randomtreesembedding',\n",
      "                                                             RandomTreesEmbedding(max_depth=2,\n",
      "                                                                                  max_leaf_nodes=None,\n",
      "                                                                                  min_impurity_decrease=0.0,\n",
      "                                                                                  min_impurity_split=None,\n",
      "                                                                                  min_samples_leaf=1...\n",
      "                 RandomForestClassifier(bootstrap=True, class_weight=None,\n",
      "                                        criterion='gini', max_depth=None,\n",
      "                                        max_features='log2',\n",
      "                                        max_leaf_nodes=None,\n",
      "                                        min_impurity_decrease=0.0,\n",
      "                                        min_impurity_split=None,\n",
      "                                        min_samples_leaf=1, min_samples_split=2,\n",
      "                                        min_weight_fraction_leaf=0.0,\n",
      "                                        n_estimators=100, n_jobs=-1,\n",
      "                                        oob_score=False, random_state=None,\n",
      "                                        verbose=0, warm_start=False))],\n",
      "         verbose=False), metrics={'train_cm': array([[6019,    0,    0,    0,    0,    0,    0,    0,    0,    0],\n",
      "       [   0, 5964,    0,    0,    0,    0,    0,    0,    0,    0],\n",
      "       [   0,    0, 5955,    0,    0,    0,    0,    0,    0,    0],\n",
      "       [   0,    0,    0, 5988,    0,    0,    0,    0,    0,    0],\n",
      "       [   0,    0,    0,    0, 6028,    0,    0,    0,    0,    0],\n",
      "       [   0,    0,    0,    0,    0, 6007,    0,    0,    0,    0],\n",
      "       [   0,    0,    0,    0,    0,    0, 6009,    0,    0,    0],\n",
      "       [   0,    0,    0,    0,    0,    0,    0, 6003,    0,    0],\n",
      "       [   0,    0,    0,    0,    0,    0,    0,    0, 6004,    0],\n",
      "       [   0,    0,    0,    0,    0,    0,    0,    0,    0, 6023]]), 'train_acc': 1.0, 'test_cm': array([[827,   0,  24,  47,   9,   2,  55,   0,  17,   0],\n",
      "       [  5, 978,   8,  39,   3,   0,   3,   0,   0,   0],\n",
      "       [ 12,   0, 804,  11, 134,   1,  72,   0,  11,   0],\n",
      "       [ 24,   6,  19, 912,  27,   0,  22,   0,   1,   1],\n",
      "       [  3,   1,  78,  45, 747,   0,  89,   0,   9,   0],\n",
      "       [  0,   0,   0,   0,   0, 899,   0,  66,   3,  25],\n",
      "       [199,   1, 157,  36, 103,   0, 468,   0,  27,   0],\n",
      "       [  0,   0,   0,   0,   0,  53,   0, 889,   4,  51],\n",
      "       [  1,   0,   6,   7,   4,   5,  10,   2, 958,   3],\n",
      "       [  0,   0,   0,   0,   0,  21,   0,  35,   1, 920]]), 'test_acc': 0.8402})\n"
     ]
    }
   ],
   "source": [
    "print(out)"
   ]
  },
  {
   "cell_type": "code",
   "execution_count": null,
   "metadata": {},
   "outputs": [
    {
     "name": "stdout",
     "output_type": "stream",
     "text": [
      "CPU times: user 394 µs, sys: 10 µs, total: 404 µs\n",
      "Wall time: 411 µs\n"
     ]
    }
   ],
   "source": [
    "%%time\n",
    "\n",
    "from sklearn.preprocessing import StandardScaler, Normalizer, FunctionTransformer\n",
    "from sklearn.cluster import KMeans\n",
    "\n",
    "def _relu(x):\n",
    "    x[x<0]=0\n",
    "    return x\n",
    "\n",
    "pipeline = make_pipeline(\n",
    "    PatchTransform(transformer=make_pipeline(\n",
    "                                LambdaRow(flatten),\n",
    "                                Normalizer(norm=\"l2\"),\n",
    "                                KMeans(n_clusters=100, n_init=3, max_iter=100),\n",
    "                                StandardScaler(),\n",
    "                                FunctionTransformer(_relu, validate=False)\n",
    "                            ),\n",
    "               patch_size=8,\n",
    "               stride=8,\n",
    "               max_patches=4\n",
    "              ),\n",
    "    RandomForestClassifier(max_depth=None, max_features=\"log2\", n_estimators=100, n_jobs=-1)\n",
    ")"
   ]
  },
  {
   "cell_type": "code",
   "execution_count": null,
   "metadata": {},
   "outputs": [
    {
     "name": "stdout",
     "output_type": "stream",
     "text": [
      "CPU times: user 6min 24s, sys: 1min 26s, total: 7min 51s\n",
      "Wall time: 4min 47s\n"
     ]
    }
   ],
   "source": [
    "%%time\n",
    "out = sk_train(xtrain, xtest, ytrain, ytest, pipeline, metrics=dict(cm=confusion_matrix, acc=accuracy_score).items())"
   ]
  },
  {
   "cell_type": "code",
   "execution_count": null,
   "metadata": {},
   "outputs": [
    {
     "name": "stdout",
     "output_type": "stream",
     "text": [
      "TrainingOutput(model=Pipeline(memory=None,\n",
      "         steps=[('patchtransform',\n",
      "                 PatchTransform(max_patches=4, patch_size=8, stride=8,\n",
      "                                transformer=Pipeline(memory=None,\n",
      "                                                     steps=[('lambdarow',\n",
      "                                                             LambdaRow(row_func=<function flatten at 0x7f99d85cd950>)),\n",
      "                                                            ('normalizer',\n",
      "                                                             Normalizer(copy=True,\n",
      "                                                                        norm='l2')),\n",
      "                                                            ('kmeans',\n",
      "                                                             KMeans(algorithm='auto',\n",
      "                                                                    copy_x=True,\n",
      "                                                                    init='k-means++',\n",
      "                                                                    max_iter=100,\n",
      "                                                                    n_clusters=100,\n",
      "                                                                    n_init=...\n",
      "                 RandomForestClassifier(bootstrap=True, class_weight=None,\n",
      "                                        criterion='gini', max_depth=None,\n",
      "                                        max_features='log2',\n",
      "                                        max_leaf_nodes=None,\n",
      "                                        min_impurity_decrease=0.0,\n",
      "                                        min_impurity_split=None,\n",
      "                                        min_samples_leaf=1, min_samples_split=2,\n",
      "                                        min_weight_fraction_leaf=0.0,\n",
      "                                        n_estimators=100, n_jobs=-1,\n",
      "                                        oob_score=False, random_state=None,\n",
      "                                        verbose=0, warm_start=False))],\n",
      "         verbose=False), metrics={'train_cm': array([[6019,    0,    0,    0,    0,    0,    0,    0,    0,    0],\n",
      "       [   0, 5964,    0,    0,    0,    0,    0,    0,    0,    0],\n",
      "       [   0,    0, 5955,    0,    0,    0,    0,    0,    0,    0],\n",
      "       [   0,    0,    0, 5988,    0,    0,    0,    0,    0,    0],\n",
      "       [   0,    0,    0,    0, 6028,    0,    0,    0,    0,    0],\n",
      "       [   0,    0,    0,    0,    0, 6007,    0,    0,    0,    0],\n",
      "       [   0,    0,    0,    0,    0,    0, 6009,    0,    0,    0],\n",
      "       [   0,    0,    0,    0,    0,    0,    0, 6003,    0,    0],\n",
      "       [   0,    0,    0,    0,    0,    0,    0,    0, 6004,    0],\n",
      "       [   0,    0,    0,    0,    0,    0,    0,    0,    0, 6023]]), 'train_acc': 1.0, 'test_cm': array([[840,   3,  10,  28,   9,   0,  81,   0,  10,   0],\n",
      "       [  3, 984,   5,  36,   1,   0,   7,   0,   0,   0],\n",
      "       [  6,   3, 794,  12, 140,   1,  83,   0,   6,   0],\n",
      "       [ 22,   7,  11, 929,  27,   0,  15,   0,   0,   1],\n",
      "       [  0,   1,  65,  56, 756,   0,  90,   0,   4,   0],\n",
      "       [  0,   0,   0,   0,   0, 923,   0,  56,   3,  11],\n",
      "       [183,   2, 113,  34,  90,   0, 551,   0,  18,   0],\n",
      "       [  0,   0,   0,   0,   0,  27,   0, 927,   3,  40],\n",
      "       [  4,   1,   3,   4,   7,   3,   7,   1, 964,   2],\n",
      "       [  0,   0,   0,   0,   0,  12,   0,  34,   0, 931]]), 'test_acc': 0.8599})\n"
     ]
    }
   ],
   "source": [
    "print(out)"
   ]
  }
 ],
 "metadata": {
  "kernelspec": {
   "display_name": "Python 3",
   "language": "python",
   "name": "python3"
  }
 },
 "nbformat": 4,
 "nbformat_minor": 4
}
