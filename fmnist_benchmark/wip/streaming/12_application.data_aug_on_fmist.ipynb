{
 "cells": [
  {
   "cell_type": "markdown",
   "metadata": {},
   "source": [
    "# Bagging and data augmentation\n",
    "> See how"
   ]
  },
  {
   "cell_type": "code",
   "execution_count": null,
   "metadata": {},
   "outputs": [
    {
     "name": "stdout",
     "output_type": "stream",
     "text": [
      "CPU times: user 23.7 s, sys: 1.37 s, total: 25.1 s\n",
      "Wall time: 25.6 s\n"
     ]
    }
   ],
   "source": [
    "%%time\n",
    "from sklearn.datasets import fetch_openml\n",
    "from sklearn.model_selection import train_test_split\n",
    "\n",
    "data = fetch_openml(\"Fashion-MNIST\", data_home=\"/home/matthieu/sklearn_data\")\n",
    "\n",
    "X = data[\"data\"].reshape(-1,28,28)\n",
    "Y = data[\"target\"]\n",
    "\n",
    "xtrain, xtest, ytrain, ytest = train_test_split(X, Y, train_size=60000, random_state=13)"
   ]
  },
  {
   "cell_type": "code",
   "execution_count": null,
   "metadata": {},
   "outputs": [],
   "source": [
    "import imgaug\n",
    "aug = imgaug.augmenters.Sequential(\n",
    "        [\n",
    "            imgaug.augmenters.Fliplr(),\n",
    "        ])"
   ]
  },
  {
   "cell_type": "code",
   "execution_count": null,
   "metadata": {},
   "outputs": [],
   "source": [
    "from mlg_lib.ml_utils import PatchTransform, LambdaRow\n",
    "from mlg_lib.imgfeat import flatten\n",
    "from sklearn.pipeline import make_pipeline\n",
    "from sklearn.ensemble import RandomForestClassifier\n",
    "from mlg_lib.ml_utils import sk_train, make_single_feature_model\n",
    "from mlg_lib.imgfeat import flatten\n",
    "from sklearn.metrics import accuracy_score, confusion_matrix"
   ]
  },
  {
   "cell_type": "code",
   "execution_count": null,
   "metadata": {},
   "outputs": [],
   "source": [
    "pipelines = list()\n",
    "\n",
    "for _ in range(10):\n",
    "    xtrain_aug enumerateug(images=xtrain)\n",
    "    \n",
    "    pipeline = make_single_feature_model(flatten, RandomForestClassifier(max_depth=None, max_features=\"log2\", n_estimators=100) )\n",
    "    \n",
    "    pipeline.fit(xtrain_aug, ytrain)\n",
    "    \n",
    "    pipelines.append(pipeline)"
   ]
  },
  {
   "cell_type": "code",
   "execution_count": null,
   "metadata": {},
   "outputs": [],
   "source": [
    "import numpy as np"
   ]
  },
  {
   "cell_type": "code",
   "execution_count": null,
   "metadata": {},
   "outputs": [],
   "source": [
    "_X = [model.predict_proba(xtrain) for model in pipelines]\n",
    "X_est = np.sum(_X, axis=0).argmax(axis=1)\n",
    "confusion_matrix(X_est, ytrain.astype(int))\n",
    "accuracy_score(X_est, ytrain.astype(int))"
   ]
  },
  {
   "cell_type": "code",
   "execution_count": null,
   "metadata": {},
   "outputs": [
    {
     "data": {
      "text/plain": [
       "0.8804"
      ]
     },
     "execution_count": null,
     "metadata": {},
     "output_type": "execute_result"
    }
   ],
   "source": [
    "_X = [model.predict_proba(xtest) for model in pipelines]\n",
    "X_est = np.sum(_X, axis=0).argmax(axis=1)\n",
    "confusion_matrix(X_est, ytest.astype(int))\n",
    "accuracy_score(X_est, ytest.astype(int))"
   ]
  }
 ],
 "metadata": {
  "kernelspec": {
   "display_name": "Python 3",
   "language": "python",
   "name": "python3"
  }
 },
 "nbformat": 4,
 "nbformat_minor": 4
}
