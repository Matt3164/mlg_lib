{
 "cells": [
  {
   "cell_type": "markdown",
   "metadata": {},
   "source": [
    "# Advanced sklearn tutorial\n",
    "> API details"
   ]
  },
  {
   "cell_type": "markdown",
   "metadata": {},
   "source": [
    "## Pipeline\n",
    "\n",
    "Useful API to chain operations on dataset."
   ]
  },
  {
   "cell_type": "code",
   "execution_count": null,
   "metadata": {},
   "outputs": [],
   "source": [
    "from sklearn.datasets import make_classification\n",
    "from sklearn.pipeline import make_pipeline\n",
    "from sklearn.preprocessing import StandardScaler\n",
    "from sklearn.decomposition import PCA\n",
    "from sklearn.linear_model import LogisticRegression\n",
    "\n",
    "data = make_classification(1000)\n",
    "\n",
    "pipe = make_pipeline(\n",
    "    StandardScaler(),\n",
    "    PCA(),\n",
    "    LogisticRegression()\n",
    ")\n",
    "\n",
    "pipe.fit(*data)\n"
   ]
  },
  {
   "cell_type": "markdown",
   "metadata": {},
   "source": [
    "## Feature aggregation"
   ]
  },
  {
   "cell_type": "code",
   "execution_count": null,
   "metadata": {},
   "outputs": [],
   "source": [
    "from sklearn.datasets import make_classification\n",
    "from sklearn.pipeline import make_pipeline, make_union\n",
    "from sklearn.preprocessing import StandardScaler, KBinsDiscretizer\n",
    "from sklearn.decomposition import PCA, TruncatedSVD\n",
    "from sklearn.neural_network import MLPClassifier\n",
    "\n",
    "data = make_classification(1000)\n",
    "\n",
    "pipe = make_pipeline(\n",
    "    StandardScaler(),\n",
    "    make_union( \n",
    "                PCA(n_components=2),\n",
    "                TruncatedSVD(n_components=2),\n",
    "                KBinsDiscretizer()\n",
    "                ),\n",
    "    MLPClassifier()\n",
    ")\n",
    "\n",
    "pipe.fit(*data)"
   ]
  },
  {
   "cell_type": "markdown",
   "metadata": {},
   "source": [
    "## Column Transformer"
   ]
  },
  {
   "cell_type": "code",
   "execution_count": null,
   "metadata": {},
   "outputs": [],
   "source": [
    "from sklearn.datasets import make_classification\n",
    "from sklearn.pipeline import make_pipeline\n",
    "from sklearn.compose import ColumnTransformer\n",
    "from sklearn.preprocessing import StandardScaler, KBinsDiscretizer\n",
    "from sklearn.decomposition import PCA\n",
    "from sklearn.neural_network import MLPClassifier\n",
    "\n",
    "data = make_classification(1000)\n",
    "\n",
    "pipe = make_pipeline(\n",
    "    ColumnTransformer(\n",
    "        [\n",
    "            (\"scaled\", StandardScaler(), slice(0, 10)),\n",
    "            (\"disc\", KBinsDiscretizer(n_bins=10), slice(10,12)),\n",
    "            (\"rest\", \"passthrough\", slice(12,20))\n",
    "    ]), \n",
    "    PCA(n_components=2),\n",
    "    MLPClassifier()\n",
    ")\n",
    "\n",
    "pipe.fit(*data)\n"
   ]
  },
  {
   "cell_type": "markdown",
   "metadata": {},
   "source": [
    "## mlflow\n",
    "\n",
    "[Source](https://www.mlflow.org/docs/latest/tutorial.html)"
   ]
  },
  {
   "cell_type": "code",
   "execution_count": null,
   "metadata": {},
   "outputs": [
    {
     "data": {
      "text/plain": [
       "'import mlflow\\n\\nwith mlflow.start_run():\\n        \\n        # ... Fit model   \\n\\n        mlflow.log_param(\"alpha\", alpha)\\n        mlflow.log_param(\"l1_ratio\", l1_ratio)\\n        mlflow.log_metric(\"rmse\", rmse)\\n        mlflow.log_metric(\"r2\", r2)\\n        mlflow.log_metric(\"mae\", mae)\\n\\n        mlflow.sklearn.log_model(lr, \"model\")'"
      ]
     },
     "execution_count": null,
     "metadata": {},
     "output_type": "execute_result"
    }
   ],
   "source": [
    "\"\"\"import mlflow\n",
    "\n",
    "with mlflow.start_run():\n",
    "        \n",
    "        # ... Fit model   \n",
    "\n",
    "        mlflow.log_param(\"alpha\", alpha)\n",
    "        mlflow.log_param(\"l1_ratio\", l1_ratio)\n",
    "        mlflow.log_metric(\"rmse\", rmse)\n",
    "        mlflow.log_metric(\"r2\", r2)\n",
    "        mlflow.log_metric(\"mae\", mae)\n",
    "\n",
    "        mlflow.sklearn.log_model(lr, \"model\")\"\"\""
   ]
  }
 ],
 "metadata": {
  "kernelspec": {
   "display_name": "Python 3",
   "language": "python",
   "name": "python3"
  }
 },
 "nbformat": 4,
 "nbformat_minor": 4
}
