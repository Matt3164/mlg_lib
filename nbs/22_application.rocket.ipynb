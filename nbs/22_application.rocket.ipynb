{
 "cells": [
  {
   "cell_type": "markdown",
   "metadata": {},
   "source": [
    "# How to train a Rocket-like classifier\n",
    "> Details"
   ]
  },
  {
   "cell_type": "code",
   "execution_count": 1,
   "metadata": {},
   "outputs": [
    {
     "name": "stdout",
     "output_type": "stream",
     "text": [
      "CPU times: user 21.3 s, sys: 1.28 s, total: 22.6 s\n",
      "Wall time: 22.4 s\n"
     ]
    }
   ],
   "source": [
    "%%time\n",
    "from sklearn.datasets import fetch_openml\n",
    "from sklearn.model_selection import train_test_split\n",
    "\n",
    "data = fetch_openml(\"Fashion-MNIST\", data_home=\"/home/matthieu/sklearn_data\")\n",
    "\n",
    "X = data[\"data\"].reshape(-1,28,28)\n",
    "Y = data[\"target\"]\n",
    "\n",
    "xtrain, xtest, ytrain, ytest = train_test_split(X, Y, train_size=60000, random_state=13)"
   ]
  },
  {
   "cell_type": "code",
   "execution_count": 5,
   "metadata": {},
   "outputs": [],
   "source": [
    "from sklearn.ensemble import ExtraTreesClassifier\n",
    "from mlg_lib.imgfeat import ConvolutionFeature\n",
    "from mlg_lib.ml_utils import make_single_feature_model, sk_train, LambdaRow\n",
    "from sklearn.metrics import accuracy_score, confusion_matrix\n",
    "from sklearn.pipeline import make_pipeline\n",
    "import numpy as np"
   ]
  },
  {
   "cell_type": "code",
   "execution_count": 3,
   "metadata": {},
   "outputs": [],
   "source": [
    "kernel = 0.2* np.random.randn(3,3,1024)\n",
    "\n",
    "pipeline = make_single_feature_model(\n",
    "    ConvolutionFeature(kernel),\n",
    "    ExtraTreesClassifier(n_estimators=100, max_features=\"log2\")\n",
    ")"
   ]
  },
  {
   "cell_type": "code",
   "execution_count": 15,
   "metadata": {},
   "outputs": [],
   "source": [
    "pipeline = make_pipeline(\n",
    "        LambdaRow(ConvolutionFeature(kernel), use_joblib=True, n_jobs=4),\n",
    "        ExtraTreesClassifier(n_estimators=100, max_features=\"log2\", n_jobs=4)\n",
    ")"
   ]
  },
  {
   "cell_type": "code",
   "execution_count": 19,
   "metadata": {},
   "outputs": [],
   "source": [
    "xtrain, xtest, ytrain, ytest = train_test_split(X, Y, train_size=60000, random_state=13)"
   ]
  },
  {
   "cell_type": "code",
   "execution_count": 20,
   "metadata": {},
   "outputs": [
    {
     "name": "stdout",
     "output_type": "stream",
     "text": [
      "CPU times: user 2min 37s, sys: 8.98 s, total: 2min 46s\n",
      "Wall time: 49min 1s\n"
     ]
    }
   ],
   "source": [
    "%%time\n",
    "out = sk_train(xtrain, xtest, ytrain, ytest, pipeline, metrics=dict(cm=confusion_matrix, acc=accuracy_score).items())"
   ]
  },
  {
   "cell_type": "code",
   "execution_count": 21,
   "metadata": {},
   "outputs": [
    {
     "data": {
      "text/plain": [
       "TrainingOutput(model=Pipeline(memory=None,\n",
       "         steps=[('lambdarow',\n",
       "                 LambdaRow(row_func=ConvolutionFeature(kernel=array([[[ 0.14719296, -0.19030036,  0.05962824, ...,  0.1291832 ,\n",
       "         -0.13140789,  0.06986491],\n",
       "        [-0.10300972, -0.15590834,  0.30330397, ..., -0.1913684 ,\n",
       "         -0.13388783, -0.00087435],\n",
       "        [-0.07295761,  0.13729776, -0.04655148, ...,  0.22858822,\n",
       "          0.21206639,  0.1428331 ]],\n",
       "\n",
       "       [[ 0.09615466, -0.09682852, -0.13381...\n",
       "                ('extratreesclassifier',\n",
       "                 ExtraTreesClassifier(bootstrap=False, class_weight=None,\n",
       "                                      criterion='gini', max_depth=None,\n",
       "                                      max_features='log2', max_leaf_nodes=None,\n",
       "                                      min_impurity_decrease=0.0,\n",
       "                                      min_impurity_split=None,\n",
       "                                      min_samples_leaf=1, min_samples_split=2,\n",
       "                                      min_weight_fraction_leaf=0.0,\n",
       "                                      n_estimators=100, n_jobs=4,\n",
       "                                      oob_score=False, random_state=None,\n",
       "                                      verbose=0, warm_start=False))],\n",
       "         verbose=False), metrics={'train_cm': array([[6019,    0,    0,    0,    0,    0,    0,    0,    0,    0],\n",
       "       [   0, 5964,    0,    0,    0,    0,    0,    0,    0,    0],\n",
       "       [   0,    0, 5955,    0,    0,    0,    0,    0,    0,    0],\n",
       "       [   0,    0,    0, 5988,    0,    0,    0,    0,    0,    0],\n",
       "       [   0,    0,    0,    0, 6028,    0,    0,    0,    0,    0],\n",
       "       [   0,    0,    0,    0,    0, 6007,    0,    0,    0,    0],\n",
       "       [   0,    0,    0,    0,    0,    0, 6009,    0,    0,    0],\n",
       "       [   0,    0,    0,    0,    0,    0,    0, 6003,    0,    0],\n",
       "       [   0,    0,    0,    0,    0,    0,    0,    0, 6004,    0],\n",
       "       [   0,    0,    0,    0,    0,    0,    0,    0,    0, 6023]]), 'train_acc': 1.0, 'test_cm': array([[737,   2,  25,  84,  30,   5,  66,   0,  32,   0],\n",
       "       [  7, 965,  20,  40,   1,   0,   3,   0,   0,   0],\n",
       "       [ 22,   1, 774,  12, 137,   2,  83,   0,  14,   0],\n",
       "       [ 46,  11,  19, 847,  45,   5,  27,   0,  11,   1],\n",
       "       [ 25,   1, 104,  84, 648,   0,  93,   0,  15,   2],\n",
       "       [  0,   0,   0,   0,   0, 880,   0,  80,   5,  28],\n",
       "       [192,   0, 111,  59, 121,   3, 474,   0,  30,   1],\n",
       "       [  0,   0,   0,   0,   0,  62,   0, 860,   0,  75],\n",
       "       [ 15,   0,   4,  17,   4,  18,  10,   7, 902,  19],\n",
       "       [  8,   0,   0,   4,   0,  19,   0,  59,  12, 875]]), 'test_acc': 0.7962})"
      ]
     },
     "execution_count": 21,
     "metadata": {},
     "output_type": "execute_result"
    }
   ],
   "source": [
    "out"
   ]
  },
  {
   "cell_type": "code",
   "execution_count": 36,
   "metadata": {},
   "outputs": [],
   "source": [
    "from skimage.filters import gabor_kernel\n",
    "\n",
    "# prepare filter bank kernels\n",
    "kernels = []\n",
    "for theta in range(8):\n",
    "    theta = theta / 4. * np.pi\n",
    "    for sigma in (1, 3):\n",
    "        for frequency in (0.05, 0.125, 0.25, 0.5, 1.):\n",
    "            kernel = np.real(gabor_kernel(frequency, theta=theta,\n",
    "                                          sigma_x=sigma, sigma_y=sigma))\n",
    "            kernels.append(kernel)"
   ]
  },
  {
   "cell_type": "code",
   "execution_count": 62,
   "metadata": {},
   "outputs": [],
   "source": [
    "padded_kernels = list()\n",
    "\n",
    "for k in kernels:\n",
    "    if k.shape==(7,7):\n",
    "        padded_kernels.append(pad(k, 6, mode=\"constant\"))\n",
    "    elif k.shape==(15,15):\n",
    "        padded_kernels.append(pad(k, 2, mode=\"constant\"))\n",
    "    else:\n",
    "         padded_kernels.append(k)   "
   ]
  },
  {
   "cell_type": "code",
   "execution_count": 73,
   "metadata": {},
   "outputs": [],
   "source": [
    "gabor_kernels = np.dstack(padded_kernels)"
   ]
  },
  {
   "cell_type": "code",
   "execution_count": 74,
   "metadata": {},
   "outputs": [],
   "source": [
    "pipeline = make_pipeline(\n",
    "        LambdaRow(ConvolutionFeature(gabor_kernels), use_joblib=True, n_jobs=4),\n",
    "        ExtraTreesClassifier(n_estimators=100, max_features=\"log2\", n_jobs=4)\n",
    ")"
   ]
  },
  {
   "cell_type": "code",
   "execution_count": 75,
   "metadata": {},
   "outputs": [
    {
     "name": "stdout",
     "output_type": "stream",
     "text": [
      "CPU times: user 1min 5s, sys: 2.76 s, total: 1min 8s\n",
      "Wall time: 10min 25s\n"
     ]
    }
   ],
   "source": [
    "%%time\n",
    "out = sk_train(xtrain, xtest, ytrain, ytest, pipeline, metrics=dict(cm=confusion_matrix, acc=accuracy_score).items())"
   ]
  },
  {
   "cell_type": "code",
   "execution_count": 76,
   "metadata": {},
   "outputs": [
    {
     "data": {
      "text/plain": [
       "TrainingOutput(model=Pipeline(memory=None,\n",
       "         steps=[('lambdarow',\n",
       "                 LambdaRow(row_func=ConvolutionFeature(kernel=array([[[ 0.00000000e+00,  0.00000000e+00,  0.00000000e+00, ...,\n",
       "          0.00000000e+00,  0.00000000e+00,  0.00000000e+00],\n",
       "        [ 0.00000000e+00,  0.00000000e+00,  0.00000000e+00, ...,\n",
       "          0.00000000e+00,  0.00000000e+00,  0.00000000e+00],\n",
       "        [ 0.00000000e+00,  0.00000000e+00,  0.00000000e+00, ...,\n",
       "          0.00000000e+00...\n",
       "                ('extratreesclassifier',\n",
       "                 ExtraTreesClassifier(bootstrap=False, class_weight=None,\n",
       "                                      criterion='gini', max_depth=None,\n",
       "                                      max_features='log2', max_leaf_nodes=None,\n",
       "                                      min_impurity_decrease=0.0,\n",
       "                                      min_impurity_split=None,\n",
       "                                      min_samples_leaf=1, min_samples_split=2,\n",
       "                                      min_weight_fraction_leaf=0.0,\n",
       "                                      n_estimators=100, n_jobs=4,\n",
       "                                      oob_score=False, random_state=None,\n",
       "                                      verbose=0, warm_start=False))],\n",
       "         verbose=False), metrics={'train_cm': array([[6019,    0,    0,    0,    0,    0,    0,    0,    0,    0],\n",
       "       [   0, 5964,    0,    0,    0,    0,    0,    0,    0,    0],\n",
       "       [   0,    0, 5955,    0,    0,    0,    0,    0,    0,    0],\n",
       "       [   0,    0,    0, 5988,    0,    0,    0,    0,    0,    0],\n",
       "       [   0,    0,    0,    0, 6028,    0,    0,    0,    0,    0],\n",
       "       [   0,    0,    0,    0,    0, 6007,    0,    0,    0,    0],\n",
       "       [   0,    0,    0,    0,    0,    0, 6009,    0,    0,    0],\n",
       "       [   0,    0,    0,    0,    0,    0,    0, 6003,    0,    0],\n",
       "       [   0,    0,    0,    0,    0,    0,    0,    0, 6004,    0],\n",
       "       [   0,    0,    0,    0,    0,    0,    0,    0,    0, 6023]]), 'train_acc': 1.0, 'test_cm': array([[750,   3,  25, 107,  13,   1,  58,   0,  24,   0],\n",
       "       [  5, 960,  14,  46,   4,   0,   7,   0,   0,   0],\n",
       "       [ 24,   1, 760,   9, 151,   1,  86,   0,  13,   0],\n",
       "       [ 41,  19,  13, 876,  35,   1,  20,   0,   7,   0],\n",
       "       [ 13,   1,  86,  91, 682,   0,  82,   0,  16,   1],\n",
       "       [  0,   0,   0,   1,   0, 866,   0,  95,   6,  25],\n",
       "       [175,   2, 125,  65, 110,   0, 487,   0,  27,   0],\n",
       "       [  0,   0,   0,   0,   0,  72,   0, 853,   0,  72],\n",
       "       [  4,   1,   7,  18,   6,  11,  11,  12, 922,   4],\n",
       "       [  0,   0,   0,   0,   0,  21,   0,  51,   5, 900]]), 'test_acc': 0.8056})"
      ]
     },
     "execution_count": 76,
     "metadata": {},
     "output_type": "execute_result"
    }
   ],
   "source": [
    "out"
   ]
  }
 ],
 "metadata": {
  "kernelspec": {
   "display_name": "Python 3",
   "language": "python",
   "name": "python3"
  },
  "language_info": {
   "codemirror_mode": {
    "name": "ipython",
    "version": 3
   },
   "file_extension": ".py",
   "mimetype": "text/x-python",
   "name": "python",
   "nbconvert_exporter": "python",
   "pygments_lexer": "ipython3",
   "version": "3.7.3"
  }
 },
 "nbformat": 4,
 "nbformat_minor": 4
}
