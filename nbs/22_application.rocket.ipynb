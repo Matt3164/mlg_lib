{
 "cells": [
  {
   "cell_type": "markdown",
   "metadata": {},
   "source": [
    "# How to train a Rocket-like classifier\n",
    "> Details"
   ]
  },
  {
   "cell_type": "code",
   "execution_count": null,
   "metadata": {},
   "outputs": [
    {
     "name": "stdout",
     "output_type": "stream",
     "text": [
      "CPU times: user 21.8 s, sys: 1.14 s, total: 22.9 s\n",
      "Wall time: 22.8 s\n"
     ]
    }
   ],
   "source": [
    "%%time\n",
    "from sklearn.datasets import fetch_openml\n",
    "from sklearn.model_selection import train_test_split\n",
    "\n",
    "data = fetch_openml(\"Fashion-MNIST\", data_home=\"/home/matthieu/sklearn_data\")\n",
    "\n",
    "X = data[\"data\"].reshape(-1,28,28)\n",
    "Y = data[\"target\"]\n",
    "\n",
    "xtrain, xtest, ytrain, ytest = train_test_split(X, Y, train_size=60000, random_state=13)"
   ]
  },
  {
   "cell_type": "code",
   "execution_count": null,
   "metadata": {},
   "outputs": [],
   "source": [
    "from sklearn.ensemble import ExtraTreesClassifier\n",
    "from mlg_lib.imgfeat import ConvolutionFeature\n",
    "from mlg_lib.ml_utils import make_single_feature_model, sk_train\n",
    "from sklearn.metrics import accuracy_score, confusion_matrix\n",
    "import numpy as np"
   ]
  },
  {
   "cell_type": "code",
   "execution_count": null,
   "metadata": {},
   "outputs": [],
   "source": [
    "kernel = 0.2* np.random.randn(3,3,1024)\n",
    "\n",
    "pipeline = make_single_feature_model(\n",
    "    ConvolutionFeature(kernel),\n",
    "    ExtraTreesClassifier(n_estimators=100, max_features=\"log2\")\n",
    ")"
   ]
  },
  {
   "cell_type": "code",
   "execution_count": null,
   "metadata": {},
   "outputs": [
    {
     "name": "stdout",
     "output_type": "stream",
     "text": [
      "CPU times: user 42min 42s, sys: 1.08 s, total: 42min 43s\n",
      "Wall time: 42min 43s\n"
     ]
    }
   ],
   "source": [
    "%%time\n",
    "out = sk_train(xtrain, xtest, ytrain, ytest, pipeline, metrics=dict(cm=confusion_matrix, acc=accuracy_score).items())"
   ]
  },
  {
   "cell_type": "code",
   "execution_count": null,
   "metadata": {},
   "outputs": [
    {
     "data": {
      "text/plain": [
       "TrainingOutput(model=Pipeline(memory=None,\n",
       "         steps=[('lambdarow',\n",
       "                 LambdaRow(row_func=ConvolutionFeature(kernel=array([[[-0.01862784,  0.14068661, -0.1179006 , ...,  0.16931905,\n",
       "          0.07983808, -0.19455821],\n",
       "        [ 0.20751521,  0.28199082, -0.31899427, ..., -0.180693  ,\n",
       "         -0.00451666, -0.18769505],\n",
       "        [ 0.08511326, -0.1607457 , -0.17425808, ..., -0.07164706,\n",
       "          0.0883254 ,  0.50614893]],\n",
       "\n",
       "       [[-0.40805935,  0.01590126, -0.150945...\n",
       "                 ExtraTreesClassifier(bootstrap=False, class_weight=None,\n",
       "                                      criterion='gini', max_depth=None,\n",
       "                                      max_features='log2', max_leaf_nodes=None,\n",
       "                                      min_impurity_decrease=0.0,\n",
       "                                      min_impurity_split=None,\n",
       "                                      min_samples_leaf=1, min_samples_split=2,\n",
       "                                      min_weight_fraction_leaf=0.0,\n",
       "                                      n_estimators=100, n_jobs=None,\n",
       "                                      oob_score=False, random_state=None,\n",
       "                                      verbose=0, warm_start=False))],\n",
       "         verbose=False), metrics={'train_cm': array([[6019,    0,    0,    0,    0,    0,    0,    0,    0,    0],\n",
       "       [   0, 5964,    0,    0,    0,    0,    0,    0,    0,    0],\n",
       "       [   0,    0, 5955,    0,    0,    0,    0,    0,    0,    0],\n",
       "       [   0,    0,    0, 5988,    0,    0,    0,    0,    0,    0],\n",
       "       [   0,    0,    0,    0, 6028,    0,    0,    0,    0,    0],\n",
       "       [   0,    0,    0,    0,    0, 6007,    0,    0,    0,    0],\n",
       "       [   0,    0,    0,    0,    0,    0, 6009,    0,    0,    0],\n",
       "       [   0,    0,    0,    0,    0,    0,    0, 6003,    0,    0],\n",
       "       [   0,    0,    0,    0,    0,    0,    0,    0, 6004,    0],\n",
       "       [   0,    0,    0,    0,    0,    0,    0,    0,    0, 6023]]), 'train_acc': 1.0, 'test_cm': array([[731,   3,  21,  84,  33,   2,  76,   0,  31,   0],\n",
       "       [  9, 972,  16,  36,   1,   0,   2,   0,   0,   0],\n",
       "       [ 18,   0, 801,  13, 127,   1,  73,   0,  12,   0],\n",
       "       [ 40,   7,  25, 863,  42,   2,  24,   0,   9,   0],\n",
       "       [ 19,   0,  87,  87, 673,   0,  90,   0,  14,   2],\n",
       "       [  0,   0,   0,   0,   0, 881,   0,  81,   3,  28],\n",
       "       [198,   1,  91,  52, 127,   1, 484,   0,  37,   0],\n",
       "       [  0,   0,   0,   0,   0,  55,   0, 884,   0,  58],\n",
       "       [ 11,   0,   3,  16,   2,  12,   9,   4, 930,   9],\n",
       "       [  4,   0,   0,   0,   1,  11,   0,  50,   9, 902]]), 'test_acc': 0.8121})"
      ]
     },
     "execution_count": null,
     "metadata": {},
     "output_type": "execute_result"
    }
   ],
   "source": [
    "out"
   ]
  }
 ],
 "metadata": {
  "kernelspec": {
   "display_name": "Python 3",
   "language": "python",
   "name": "python3"
  }
 },
 "nbformat": 4,
 "nbformat_minor": 4
}
