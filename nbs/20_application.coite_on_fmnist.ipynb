{
 "cells": [
  {
   "cell_type": "markdown",
   "metadata": {},
   "source": [
    "# How to train a COITE ensemble on FMNIST\n",
    "> See how"
   ]
  },
  {
   "cell_type": "code",
   "execution_count": null,
   "metadata": {},
   "outputs": [],
   "source": [
    "from sklearn.datasets import fetch_openml\n",
    "from sklearn.model_selection import train_test_split\n",
    "\n",
    "data = fetch_openml(\"Fashion-MNIST\", data_home=\"/home/matthieu/sklearn_data\")\n",
    "\n",
    "X = data[\"data\"].reshape(-1,28,28)\n",
    "Y = data[\"target\"]\n",
    "\n",
    "xtrain, xtest, ytrain, ytest = train_test_split(X, Y, train_size=60000, random_state=13)"
   ]
  },
  {
   "cell_type": "code",
   "execution_count": null,
   "metadata": {},
   "outputs": [],
   "source": [
    "from mlg_lib.imgfeat import HogFactory, DaisyFactory, flatten, LBPFactory\n",
    "from mlg_lib.ml_utils import make_single_feature_model, sk_train\n",
    "\n",
    "from sklearn.metrics import accuracy_score, confusion_matrix\n",
    "from sklearn.ensemble import ExtraTreesClassifier, VotingClassifier"
   ]
  },
  {
   "cell_type": "code",
   "execution_count": null,
   "metadata": {},
   "outputs": [],
   "source": [
    "FEATURES = [\n",
    "    HogFactory(orientations=8, pixels_per_cell=(8, 8),cells_per_block=(1, 1), multichannel=False),\n",
    "    DaisyFactory(orientations=8, step=8, radius=8, rings=2),\n",
    "    flatten,\n",
    "    LBPFactory(radius=8)\n",
    "]\n",
    "\n",
    "FEATURE_NAMES = [\n",
    "    \"HOG\",\n",
    "    \"DAISY\",\n",
    "    \"RAW\",\n",
    "    \"LBP\"\n",
    "]"
   ]
  },
  {
   "cell_type": "code",
   "execution_count": null,
   "metadata": {},
   "outputs": [],
   "source": [
    "pipeline = VotingClassifier(\n",
    "    list(\n",
    "        zip(\n",
    "            FEATURE_NAMES,\n",
    "        list( \n",
    "            map(lambda f: make_single_feature_model(f, ExtraTreesClassifier(n_estimators=25)), FEATURES) )\n",
    "        )\n",
    "    ),\n",
    "    voting=\"soft\"\n",
    ")"
   ]
  },
  {
   "cell_type": "code",
   "execution_count": null,
   "metadata": {},
   "outputs": [],
   "source": [
    "out = sk_train(xtrain, xtest, ytrain, ytest, pipeline, metrics=dict(cm=confusion_matrix, acc=accuracy_score).items())"
   ]
  },
  {
   "cell_type": "code",
   "execution_count": null,
   "metadata": {},
   "outputs": [
    {
     "data": {
      "text/plain": [
       "TrainingOutput(model=VotingClassifier(estimators=[('HOG',\n",
       "                              Pipeline(memory=None,\n",
       "                                       steps=[('lambdarow',\n",
       "                                               LambdaRow(row_func=HogFactory(orientations=8, pixels_per_cell=(8, 8), cells_per_block=(1, 1), multichannel=False))),\n",
       "                                              ('extratreesclassifier',\n",
       "                                               ExtraTreesClassifier(bootstrap=False,\n",
       "                                                                    class_weight=None,\n",
       "                                                                    criterion='gini',\n",
       "                                                                    max_depth=None,\n",
       "                                                                    max_features='auto',\n",
       "                                                                    max_leaf_nodes=None,\n",
       "                                                                    min_impurit...\n",
       "                                                                    criterion='gini',\n",
       "                                                                    max_depth=None,\n",
       "                                                                    max_features='auto',\n",
       "                                                                    max_leaf_nodes=None,\n",
       "                                                                    min_impurity_decrease=0.0,\n",
       "                                                                    min_impurity_split=None,\n",
       "                                                                    min_samples_leaf=1,\n",
       "                                                                    min_samples_split=2,\n",
       "                                                                    min_weight_fraction_leaf=0.0,\n",
       "                                                                    n_estimators=25,\n",
       "                                                                    n_jobs=None,\n",
       "                                                                    oob_score=False,\n",
       "                                                                    random_state=None,\n",
       "                                                                    verbose=0,\n",
       "                                                                    warm_start=False))],\n",
       "                                       verbose=False))],\n",
       "                 flatten_transform=True, n_jobs=None, voting='soft',\n",
       "                 weights=None), metrics={'train_cm': array([[6019,    0,    0,    0,    0,    0,    0,    0,    0,    0],\n",
       "       [   0, 5964,    0,    0,    0,    0,    0,    0,    0,    0],\n",
       "       [   0,    0, 5955,    0,    0,    0,    0,    0,    0,    0],\n",
       "       [   0,    0,    0, 5988,    0,    0,    0,    0,    0,    0],\n",
       "       [   0,    0,    0,    0, 6028,    0,    0,    0,    0,    0],\n",
       "       [   0,    0,    0,    0,    0, 6007,    0,    0,    0,    0],\n",
       "       [   0,    0,    0,    0,    0,    0, 6009,    0,    0,    0],\n",
       "       [   0,    0,    0,    0,    0,    0,    0, 6003,    0,    0],\n",
       "       [   0,    0,    0,    0,    0,    0,    0,    0, 6004,    0],\n",
       "       [   0,    0,    0,    0,    0,    0,    0,    0,    0, 6023]]), 'train_acc': 1.0, 'test_cm': array([[848,   0,  10,  41,   6,   0,  61,   0,  15,   0],\n",
       "       [  0, 995,   5,  30,   1,   0,   4,   0,   1,   0],\n",
       "       [  5,   0, 872,  10,  95,   0,  57,   0,   6,   0],\n",
       "       [ 19,   4,   8, 926,  27,   0,  27,   0,   1,   0],\n",
       "       [  0,   1,  44,  43, 833,   0,  45,   0,   6,   0],\n",
       "       [  0,   0,   0,   0,   0, 945,   0,  32,   3,  13],\n",
       "       [180,   0,  96,  37,  84,   0, 576,   0,  18,   0],\n",
       "       [  0,   0,   0,   0,   0,  21,   0, 936,   2,  38],\n",
       "       [  5,   0,   4,   4,   3,   1,   5,   1, 971,   2],\n",
       "       [  0,   0,   0,   0,   0,   3,   0,  34,   0, 940]]), 'test_acc': 0.8842})"
      ]
     },
     "execution_count": null,
     "metadata": {},
     "output_type": "execute_result"
    }
   ],
   "source": [
    "out"
   ]
  },
  {
   "cell_type": "code",
   "execution_count": null,
   "metadata": {},
   "outputs": [],
   "source": [
    "from sklearn.ensemble import RandomForestClassifier\n",
    "\n",
    "pipeline = VotingClassifier(\n",
    "    list(\n",
    "        zip(\n",
    "            FEATURE_NAMES,\n",
    "        list( \n",
    "            map(lambda f: make_single_feature_model(f, RandomForestClassifier(n_estimators=50, max_features=\"log2\", max_depth=None, n_jobs=-1)), FEATURES) )\n",
    "        )\n",
    "    ),\n",
    "    voting=\"soft\"\n",
    ")"
   ]
  },
  {
   "cell_type": "code",
   "execution_count": null,
   "metadata": {},
   "outputs": [],
   "source": [
    "out = sk_train(xtrain, xtest, ytrain, ytest, pipeline, metrics=dict(cm=confusion_matrix, acc=accuracy_score).items())"
   ]
  },
  {
   "cell_type": "code",
   "execution_count": null,
   "metadata": {},
   "outputs": [
    {
     "data": {
      "text/plain": [
       "TrainingOutput(model=VotingClassifier(estimators=[('HOG',\n",
       "                              Pipeline(memory=None,\n",
       "                                       steps=[('lambdarow',\n",
       "                                               LambdaRow(row_func=HogFactory(orientations=8, pixels_per_cell=(8, 8), cells_per_block=(1, 1), multichannel=False))),\n",
       "                                              ('randomforestclassifier',\n",
       "                                               RandomForestClassifier(bootstrap=True,\n",
       "                                                                      class_weight=None,\n",
       "                                                                      criterion='gini',\n",
       "                                                                      max_depth=None,\n",
       "                                                                      max_features='log2',\n",
       "                                                                      max_leaf_nodes=None,\n",
       "                                                                      min_impu...\n",
       "                                                                      criterion='gini',\n",
       "                                                                      max_depth=None,\n",
       "                                                                      max_features='log2',\n",
       "                                                                      max_leaf_nodes=None,\n",
       "                                                                      min_impurity_decrease=0.0,\n",
       "                                                                      min_impurity_split=None,\n",
       "                                                                      min_samples_leaf=1,\n",
       "                                                                      min_samples_split=2,\n",
       "                                                                      min_weight_fraction_leaf=0.0,\n",
       "                                                                      n_estimators=50,\n",
       "                                                                      n_jobs=-1,\n",
       "                                                                      oob_score=False,\n",
       "                                                                      random_state=None,\n",
       "                                                                      verbose=0,\n",
       "                                                                      warm_start=False))],\n",
       "                                       verbose=False))],\n",
       "                 flatten_transform=True, n_jobs=None, voting='soft',\n",
       "                 weights=None), metrics={'train_cm': array([[6019,    0,    0,    0,    0,    0,    0,    0,    0,    0],\n",
       "       [   0, 5964,    0,    0,    0,    0,    0,    0,    0,    0],\n",
       "       [   0,    0, 5955,    0,    0,    0,    0,    0,    0,    0],\n",
       "       [   0,    0,    0, 5988,    0,    0,    0,    0,    0,    0],\n",
       "       [   0,    0,    0,    0, 6028,    0,    0,    0,    0,    0],\n",
       "       [   0,    0,    0,    0,    0, 6007,    0,    0,    0,    0],\n",
       "       [   0,    0,    0,    0,    0,    0, 6009,    0,    0,    0],\n",
       "       [   0,    0,    0,    0,    0,    0,    0, 6003,    0,    0],\n",
       "       [   0,    0,    0,    0,    0,    0,    0,    0, 6004,    0],\n",
       "       [   0,    0,    0,    0,    0,    0,    0,    0,    0, 6023]]), 'train_acc': 1.0, 'test_cm': array([[857,   0,  12,  43,   4,   0,  48,   0,  17,   0],\n",
       "       [  0, 992,   5,  31,   1,   0,   6,   0,   1,   0],\n",
       "       [  3,   1, 874,  11,  94,   0,  56,   0,   6,   0],\n",
       "       [ 20,   2,   9, 927,  25,   0,  27,   0,   2,   0],\n",
       "       [  0,   1,  42,  46, 832,   0,  45,   0,   6,   0],\n",
       "       [  0,   0,   0,   0,   0, 942,   0,  34,   4,  13],\n",
       "       [196,   0, 104,  36,  77,   0, 560,   0,  18,   0],\n",
       "       [  0,   0,   0,   0,   0,  21,   0, 933,   2,  41],\n",
       "       [  1,   0,   4,   6,   3,   1,   6,   0, 972,   3],\n",
       "       [  0,   0,   0,   0,   0,   3,   0,  37,   0, 937]]), 'test_acc': 0.8826})"
      ]
     },
     "execution_count": null,
     "metadata": {},
     "output_type": "execute_result"
    }
   ],
   "source": [
    "out"
   ]
  }
 ],
 "metadata": {
  "kernelspec": {
   "display_name": "Python 3",
   "language": "python",
   "name": "python3"
  }
 },
 "nbformat": 4,
 "nbformat_minor": 4
}
