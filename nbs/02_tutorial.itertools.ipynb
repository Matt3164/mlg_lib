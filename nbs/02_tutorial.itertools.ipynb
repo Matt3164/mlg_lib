{
 "cells": [
  {
   "cell_type": "markdown",
   "metadata": {},
   "source": [
    "# itertools tutorial\n",
    "> How to use the standard itertools library"
   ]
  },
  {
   "cell_type": "markdown",
   "metadata": {},
   "source": [
    "[Reference doc](https://docs.python.org/fr/3/library/itertools.html)\n",
    "\n",
    "\n",
    "## tee\n",
    "Create a copy of an iterator."
   ]
  },
  {
   "cell_type": "code",
   "execution_count": null,
   "metadata": {},
   "outputs": [
    {
     "name": "stdout",
     "output_type": "stream",
     "text": [
      "0 1\n",
      "1 2\n",
      "2 3\n",
      "3 4\n",
      "4 5\n",
      "5 6\n",
      "6 7\n",
      "7 8\n",
      "8 9\n",
      "9 10\n"
     ]
    }
   ],
   "source": [
    "from itertools import tee\n",
    "\n",
    "init_iter = range(10)\n",
    "\n",
    "# Create 2 synchronized iterators\n",
    "sync1, sync2 = tee(init_iter)\n",
    "# Apply one function to one iterator and print to see synchronization\n",
    "for val, valplusone in zip(sync1, map(lambda x: x+1, sync2)):\n",
    "    print(val, valplusone)\n"
   ]
  },
  {
   "cell_type": "markdown",
   "metadata": {},
   "source": [
    "## islice\n",
    "\n",
    "Modify properties of iterator such as start, stop, step "
   ]
  },
  {
   "cell_type": "code",
   "execution_count": null,
   "metadata": {},
   "outputs": [],
   "source": [
    "from itertools import islice\n",
    "# New iterator starting at 2 ending at 50 jumping 2 to 2\n",
    "new_iter = islice(range(100),2, 50, 2)"
   ]
  },
  {
   "cell_type": "markdown",
   "metadata": {},
   "source": [
    "## chain.from_iterable\n",
    "\n",
    "Create a new iterable from an iterable of iterators. Eauivalent of the flat_map operator for the ones familiar with it"
   ]
  },
  {
   "cell_type": "code",
   "execution_count": null,
   "metadata": {},
   "outputs": [],
   "source": [
    "from itertools import chain\n",
    "\n",
    "new_iter = chain.from_iterable([range(10), range(10)])"
   ]
  }
 ],
 "metadata": {
  "kernelspec": {
   "display_name": "Python 3",
   "language": "python",
   "name": "python3"
  }
 },
 "nbformat": 4,
 "nbformat_minor": 4
}
