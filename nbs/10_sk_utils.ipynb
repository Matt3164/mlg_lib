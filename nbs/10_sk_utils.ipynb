{
 "cells": [
  {
   "cell_type": "code",
   "execution_count": null,
   "metadata": {},
   "outputs": [],
   "source": [
    "# default_exp sk_utils"
   ]
  },
  {
   "cell_type": "markdown",
   "metadata": {},
   "source": [
    "# sk_utils\n",
    "> Utilities to use sklearn for image processing"
   ]
  },
  {
   "cell_type": "code",
   "execution_count": null,
   "metadata": {},
   "outputs": [],
   "source": [
    "# export\n",
    "\n",
    "from typing import Callable\n",
    "\n",
    "import numpy as np\n",
    "from numpy.core._multiarray_umath import ndarray\n",
    "from sklearn.base import TransformerMixin, BaseEstimator\n",
    "\n",
    "\n",
    "class LambdaRow(TransformerMixin, BaseEstimator):\n",
    "    \"\"\"\n",
    "    \n",
    "    Apply a function on each row of the numpy array\n",
    "    \n",
    "    \"\"\"\n",
    "\n",
    "    def __init__(self,\n",
    "                 row_func: Callable[[ndarray], ndarray],\n",
    "                 to_features: bool = False,\n",
    "                 **kwargs):\n",
    "        \"\"\"Constructor for LambdaRow\"\"\"\n",
    "        self.func = row_func\n",
    "        self.func_kwargs = kwargs\n",
    "        self.to_features = to_features\n",
    "\n",
    "    def fit(self, X, y=None):\n",
    "        return self\n",
    "\n",
    "    def transform(self, X):\n",
    "        _arr = np.array([self.func(x, **self.func_kwargs) for x in X])\n",
    "        if len(_arr.shape)>=2:\n",
    "            if self.to_features:\n",
    "                N = _arr.shape[0]\n",
    "                return _arr.reshape(N,-1)\n",
    "            else:\n",
    "                return _arr\n",
    "        else:\n",
    "            return _arr.reshape(-1,1)\n",
    "\n",
    "    def fit_transform(self, X, y=None, **fit_params):\n",
    "        return self.fit(X).transform(X)\n",
    "\n",
    "    def get_params(self, deep=True):\n",
    "        return dict(list(self.func_kwargs.items())+[(\"row_func\", self.func)])\n",
    "\n",
    "    def set_params(self, **params):\n",
    "        # params.pop(\"row_func\")\n",
    "        self.func_kwargs.update(params)\n",
    "        return self"
   ]
  },
  {
   "cell_type": "code",
   "execution_count": null,
   "metadata": {},
   "outputs": [
    {
     "data": {
      "text/plain": [
       "(16, 1)"
      ]
     },
     "execution_count": null,
     "metadata": {},
     "output_type": "execute_result"
    }
   ],
   "source": [
    "import numpy as np\n",
    "\n",
    "X = np.random.randint(0,255, size=(16,32,32))\n",
    "\n",
    "LambdaRow(row_func=lambda x: x.mean()).fit_transform(X).shape"
   ]
  }
 ],
 "metadata": {
  "kernelspec": {
   "display_name": "Python 3",
   "language": "python",
   "name": "python3"
  }
 },
 "nbformat": 4,
 "nbformat_minor": 2
}
