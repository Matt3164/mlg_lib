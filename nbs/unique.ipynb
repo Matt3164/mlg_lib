{
 "cells": [
  {
   "cell_type": "markdown",
   "metadata": {},
   "source": [
    "Useful to compute uniaue elements in an array.\n",
    "\n",
    "For instance, useful in case you want to known the composition in terms of labels of a dataset."
   ]
  },
  {
   "cell_type": "code",
   "execution_count": null,
   "metadata": {},
   "outputs": [
    {
     "name": "stdout",
     "output_type": "stream",
     "text": [
      "Unique elements in the list : [ 0  1  2  3  4  5  6  7  8  9 10 11 12 13 14 15]\n",
      "Unique elements in the list with counts : (array([ 0,  1,  2,  3,  4,  5,  6,  7,  8,  9, 10, 11, 12, 13, 14, 15]), array([ 3,  4, 12,  5,  6,  5,  7,  6, 11,  8,  3,  8,  7,  3,  5,  7]))\n",
      "\n"
     ]
    }
   ],
   "source": [
    "import numpy as np\n",
    "\n",
    "random_ints = np.random.randint(0,16, size=(100,))\n",
    "# Print unique elements\n",
    "print(f\"Unique elements in the list : {np.unique(random_ints)}\")\n",
    "# Print unique elements and counts\n",
    "print(f\"Unique elements in the list with counts : {np.unique(random_ints, return_counts=True)}\")\n",
    "print()\n"
   ]
  }
 ],
 "metadata": {
  "kernelspec": {
   "display_name": "Python 3",
   "language": "python",
   "name": "python3"
  }
 },
 "nbformat": 4,
 "nbformat_minor": 1
}
