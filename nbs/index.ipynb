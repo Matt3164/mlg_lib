{
 "cells": [
  {
   "cell_type": "code",
   "execution_count": null,
   "metadata": {},
   "outputs": [],
   "source": [
    "#hide\n",
    "from your_lib.core import *"
   ]
  },
  {
   "cell_type": "markdown",
   "metadata": {},
   "source": [
    "# mlg_lib\n",
    "\n",
    "> Wrappers I used to try things "
   ]
  },
  {
   "cell_type": "markdown",
   "metadata": {},
   "source": [
    "This file will become your README and also the index of your documentation."
   ]
  },
  {
   "cell_type": "markdown",
   "metadata": {},
   "source": [
    "## Install"
   ]
  },
  {
   "cell_type": "markdown",
   "metadata": {},
   "source": [
    "From pypy:\n",
    "\n",
    "`pip install mlg_lib`\n",
    "\n",
    "In dev mode:\n",
    "\n",
    "```\n",
    "git clone https://github.com/Matt3164/mlg_lib.git\n",
    "cd mlg_lib\n",
    "pip install -e .\n",
    "```"
   ]
  },
  {
   "cell_type": "markdown",
   "metadata": {},
   "source": [
    "## Main idea\n",
    "\n",
    "The main idea here is to build image ML models with \"simple\" sklearn pipelines. Using simple ML pipelines to do machine learning on images is less and less done in profit of big DL models. \n",
    "\n",
    "In fact, I usually find handy to train a simple image feature model for at least two things : get a feel of the problem diificulty without the need of a GPU (I can often work on the problem modelisation before using a GPU...) and design the rest of the pipeline (data preprocessing, model deployment, GUI, debug statistics).\n",
    "\n",
    "The main requisites for this lib were not have too much dependencies except classical numerical python.\n",
    "\n",
    "It is still under heavy development, so API can change very quickly.\n"
   ]
  },
  {
   "cell_type": "markdown",
   "metadata": {},
   "source": [
    "## How to use"
   ]
  },
  {
   "cell_type": "markdown",
   "metadata": {},
   "source": [
    "TODO: Fill me in please! Don't forget code examples:"
   ]
  },
  {
   "cell_type": "code",
   "execution_count": null,
   "metadata": {},
   "outputs": [
    {
     "data": {
      "text/plain": [
       "2"
      ]
     },
     "execution_count": null,
     "metadata": {},
     "output_type": "execute_result"
    }
   ],
   "source": [
    "1+1"
   ]
  },
  {
   "cell_type": "code",
   "execution_count": null,
   "metadata": {},
   "outputs": [],
   "source": []
  }
 ],
 "metadata": {
  "kernelspec": {
   "display_name": "Python 3",
   "language": "python",
   "name": "python3"
  }
 },
 "nbformat": 4,
 "nbformat_minor": 4
}
