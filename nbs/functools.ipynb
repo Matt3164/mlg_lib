{
 "cells": [
  {
   "cell_type": "markdown",
   "metadata": {},
   "source": [
    "# Functools\n",
    "\n",
    "## partial\n",
    "\n",
    "\n",
    "is used to freeze some arguments of a function. Useful for functionnal programming"
   ]
  },
  {
   "cell_type": "code",
   "execution_count": null,
   "metadata": {},
   "outputs": [
    {
     "name": "stdout",
     "output_type": "stream",
     "text": [
      "4\n"
     ]
    }
   ],
   "source": [
    "from functools import partial\n",
    "\n",
    "def add(i1: int, i2: int)->int:\n",
    "    return i1+i2\n",
    "\n",
    "add2 = partial(add, i2=2)\n",
    "\n",
    "print(add2(2))"
   ]
  }
 ],
 "metadata": {
  "kernelspec": {
   "display_name": "Python 3",
   "language": "python",
   "name": "python3"
  }
 },
 "nbformat": 4,
 "nbformat_minor": 1
}
