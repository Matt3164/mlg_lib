{
 "cells": [
  {
   "cell_type": "markdown",
   "metadata": {},
   "source": [
    "# Multiboosting\n",
    "> How to train a multiboosting model"
   ]
  },
  {
   "cell_type": "code",
   "execution_count": null,
   "metadata": {},
   "outputs": [
    {
     "name": "stdout",
     "output_type": "stream",
     "text": [
      "CPU times: user 23.5 s, sys: 1.36 s, total: 24.9 s\n",
      "Wall time: 24.7 s\n"
     ]
    }
   ],
   "source": [
    "%%time\n",
    "from sklearn.datasets import fetch_openml\n",
    "from sklearn.model_selection import train_test_split\n",
    "\n",
    "data = fetch_openml(\"Fashion-MNIST\", data_home=\"/home/matthieu/sklearn_data\")\n",
    "\n",
    "X = data[\"data\"].reshape(-1,28,28)\n",
    "Y = data[\"target\"]\n",
    "\n",
    "xtrain, xtest, ytrain, ytest = train_test_split(X, Y, train_size=60000, random_state=13)"
   ]
  },
  {
   "cell_type": "code",
   "execution_count": null,
   "metadata": {},
   "outputs": [],
   "source": [
    "from sklearn.ensemble import GradientBoostingClassifier\n",
    "from mlg_lib.imgfeat import HogFactory\n",
    "from mlg_lib.ml_utils import make_single_feature_model, sk_train\n",
    "from sklearn.metrics import accuracy_score, confusion_matrix"
   ]
  },
  {
   "cell_type": "code",
   "execution_count": null,
   "metadata": {},
   "outputs": [],
   "source": [
    "pipeline = make_single_feature_model(\n",
    "    HogFactory(orientations=8, pixels_per_cell=(4, 4),cells_per_block=(1, 1), multichannel=False),\n",
    "    GradientBoostingClassifier(max_depth=2, max_features=\"log2\", n_estimators=50, subsample=0.1)\n",
    ")"
   ]
  },
  {
   "cell_type": "code",
   "execution_count": null,
   "metadata": {},
   "outputs": [
    {
     "name": "stdout",
     "output_type": "stream",
     "text": [
      "CPU times: user 2min 18s, sys: 487 ms, total: 2min 18s\n",
      "Wall time: 2min 19s\n"
     ]
    }
   ],
   "source": [
    "%%time\n",
    "out = sk_train(xtrain, xtest, ytrain, ytest, pipeline, metrics=dict(cm=confusion_matrix, acc=accuracy_score).items())"
   ]
  },
  {
   "cell_type": "code",
   "execution_count": null,
   "metadata": {},
   "outputs": [
    {
     "name": "stdout",
     "output_type": "stream",
     "text": [
      "TrainingOutput(model=Pipeline(memory=None,\n",
      "         steps=[('lambdarow',\n",
      "                 LambdaRow(row_func=HogFactory(orientations=8, pixels_per_cell=(4, 4), cells_per_block=(1, 1), multichannel=False))),\n",
      "                ('gradientboostingclassifier',\n",
      "                 GradientBoostingClassifier(criterion='friedman_mse', init=None,\n",
      "                                            learning_rate=0.1, loss='deviance',\n",
      "                                            max_depth=2, max_features='log2',\n",
      "                                            max_leaf_nodes=None,\n",
      "                                            min_impurity_decrease=0.0,\n",
      "                                            min_impurity_split=None,\n",
      "                                            min_samples_leaf=1,\n",
      "                                            min_samples_split=2,\n",
      "                                            min_weight_fraction_leaf=0.0,\n",
      "                                            n_estimators=50,\n",
      "                                            n_iter_no_change=None,\n",
      "                                            presort='auto', random_state=None,\n",
      "                                            subsample=0.1, tol=0.0001,\n",
      "                                            validation_fraction=0.1, verbose=0,\n",
      "                                            warm_start=False))],\n",
      "         verbose=False), metrics={'train_cm': array([[4593,   33,  163,  643,   44,    1,  436,    0,  106,    0],\n",
      "       [   5, 5570,   24,  237,   68,    0,   50,    0,   10,    0],\n",
      "       [  53,    5, 4324,   73,  877,    0,  537,    0,   86,    0],\n",
      "       [ 105,  129,   36, 5192,  227,    0,  280,    0,   19,    0],\n",
      "       [  11,    5,  727,  483, 4231,    0,  515,    0,   56,    0],\n",
      "       [   1,    3,    1,   20,    0, 5213,   15,  494,   39,  221],\n",
      "       [ 989,   16,  630,  421,  727,    0, 3062,    1,  163,    0],\n",
      "       [   0,    0,    0,    0,    0,  271,    0, 5219,    6,  507],\n",
      "       [  28,    5,   20,  169,   61,  101,   68,   10, 5539,    3],\n",
      "       [   0,    5,    1,   24,    9,  135,    3,  381,    7, 5458]]), 'train_acc': 0.8066833333333333, 'test_cm': array([[726,   9,  27, 124,  11,   0,  66,   0,  18,   0],\n",
      "       [  4, 959,   2,  50,  10,   0,  10,   0,   1,   0],\n",
      "       [ 16,   1, 746,  12, 162,   0,  93,   0,  15,   0],\n",
      "       [ 16,  20,   3, 891,  31,   0,  47,   0,   4,   0],\n",
      "       [  0,   1, 115,  83, 687,   0,  70,   0,  16,   0],\n",
      "       [  0,   1,   0,   1,   0, 860,   2,  81,   9,  39],\n",
      "       [162,   4,  93,  76, 107,   0, 516,   0,  33,   0],\n",
      "       [  0,   0,   0,   0,   0,  60,   0, 865,   2,  70],\n",
      "       [  3,   2,   4,  27,  10,  14,   9,   5, 920,   2],\n",
      "       [  0,   1,   0,   0,   0,  23,   2,  66,   3, 882]]), 'test_acc': 0.8052})\n"
     ]
    }
   ],
   "source": [
    "print(out)"
   ]
  },
  {
   "cell_type": "code",
   "execution_count": null,
   "metadata": {},
   "outputs": [],
   "source": [
    "# explicitly require this experimental feature\n",
    "from sklearn.experimental import enable_hist_gradient_boosting  # noqa\n",
    "# now you can import normally from ensemble\n",
    "from sklearn.ensemble import HistGradientBoostingClassifier"
   ]
  },
  {
   "cell_type": "code",
   "execution_count": null,
   "metadata": {},
   "outputs": [],
   "source": [
    "pipeline = make_single_feature_model(\n",
    "    HogFactory(orientations=8, pixels_per_cell=(4, 4),cells_per_block=(1, 1), multichannel=False),\n",
    "    HistGradientBoostingClassifier(max_depth=2, max_iter=50)\n",
    ")"
   ]
  },
  {
   "cell_type": "code",
   "execution_count": null,
   "metadata": {},
   "outputs": [
    {
     "name": "stdout",
     "output_type": "stream",
     "text": [
      "CPU times: user 7min 8s, sys: 2.2 s, total: 7min 11s\n",
      "Wall time: 3min 48s\n"
     ]
    }
   ],
   "source": [
    "%%time\n",
    "out = sk_train(xtrain, xtest, ytrain, ytest, pipeline, metrics=dict(cm=confusion_matrix, acc=accuracy_score).items())"
   ]
  },
  {
   "cell_type": "code",
   "execution_count": null,
   "metadata": {},
   "outputs": [
    {
     "name": "stdout",
     "output_type": "stream",
     "text": [
      "TrainingOutput(model=Pipeline(memory=None,\n",
      "         steps=[('lambdarow',\n",
      "                 LambdaRow(row_func=HogFactory(orientations=8, pixels_per_cell=(4, 4), cells_per_block=(1, 1), multichannel=False))),\n",
      "                ('histgradientboostingclassifier',\n",
      "                 HistGradientBoostingClassifier(l2_regularization=0.0,\n",
      "                                                learning_rate=0.1, loss='auto',\n",
      "                                                max_bins=256, max_depth=2,\n",
      "                                                max_iter=50, max_leaf_nodes=31,\n",
      "                                                min_samples_leaf=20,\n",
      "                                                n_iter_no_change=None,\n",
      "                                                random_state=None, scoring=None,\n",
      "                                                tol=1e-07,\n",
      "                                                validation_fraction=0.1,\n",
      "                                                verbose=0))],\n",
      "         verbose=False), metrics={'train_cm': array([[4939,   32,  135,  339,   42,    3,  471,    1,   57,    0],\n",
      "       [   9, 5735,   14,  140,   21,    0,   35,    0,   10,    0],\n",
      "       [  53,    4, 4529,   54,  764,    0,  515,    1,   35,    0],\n",
      "       [  95,  151,   34, 5219,  201,    3,  266,    0,   18,    1],\n",
      "       [   7,    9,  545,  357, 4603,    1,  485,    0,   21,    0],\n",
      "       [   0,    0,    0,   12,    0, 5483,    3,  328,   50,  131],\n",
      "       [ 992,    9,  575,  289,  656,    0, 3404,    2,   82,    0],\n",
      "       [   0,    0,    0,    0,    0,  192,    0, 5393,   15,  403],\n",
      "       [  23,    4,   22,   90,   27,   67,  113,   10, 5643,    5],\n",
      "       [   0,    2,    0,   14,    2,  104,    4,  300,    7, 5590]]), 'train_acc': 0.8423, 'test_cm': array([[794,   8,  24,  59,   9,   0,  77,   0,  10,   0],\n",
      "       [  4, 986,   1,  29,   3,   0,  11,   0,   2,   0],\n",
      "       [ 12,   0, 793,  13, 131,   0,  93,   0,   3,   0],\n",
      "       [ 18,  19,   8, 885,  33,   1,  47,   0,   1,   0],\n",
      "       [  0,   1,  93,  58, 732,   0,  82,   0,   6,   0],\n",
      "       [  0,   0,   0,   1,   0, 895,   0,  64,  10,  23],\n",
      "       [184,   1,  93,  49, 103,   0, 546,   0,  15,   0],\n",
      "       [  0,   0,   0,   0,   0,  39,   0, 903,   5,  50],\n",
      "       [  3,   2,   3,  17,   6,   9,  26,   2, 925,   3],\n",
      "       [  0,   0,   0,   0,   1,  13,   0,  60,   1, 902]]), 'test_acc': 0.8361})\n"
     ]
    }
   ],
   "source": [
    "print(out)"
   ]
  },
  {
   "cell_type": "code",
   "execution_count": null,
   "metadata": {},
   "outputs": [],
   "source": [
    "import numpy as np\n",
    "from sklearn.ensemble import BaggingClassifier\n",
    "\n",
    "T = 500\n",
    "\n",
    "_T = int(np.sqrt(T))\n",
    "\n",
    "pipeline = make_single_feature_model(\n",
    "    HogFactory(orientations=8, pixels_per_cell=(4, 4),cells_per_block=(1, 1), multichannel=False),\n",
    "    BaggingClassifier(\n",
    "        n_estimators=_T,\n",
    "        base_estimator=HistGradientBoostingClassifier(max_depth=2, max_iter=_T)\n",
    "    )\n",
    ")"
   ]
  },
  {
   "cell_type": "code",
   "execution_count": null,
   "metadata": {},
   "outputs": [
    {
     "name": "stdout",
     "output_type": "stream",
     "text": [
      "CPU times: user 15min 24s, sys: 6.47 s, total: 15min 30s\n",
      "Wall time: 6min\n"
     ]
    }
   ],
   "source": [
    "%%time\n",
    "out = sk_train(xtrain, xtest, ytrain, ytest, pipeline, metrics=dict(cm=confusion_matrix, acc=accuracy_score).items())"
   ]
  },
  {
   "cell_type": "code",
   "execution_count": null,
   "metadata": {},
   "outputs": [
    {
     "name": "stdout",
     "output_type": "stream",
     "text": [
      "TrainingOutput(model=Pipeline(memory=None,\n",
      "         steps=[('lambdarow',\n",
      "                 LambdaRow(row_func=HogFactory(orientations=8, pixels_per_cell=(4, 4), cells_per_block=(1, 1), multichannel=False))),\n",
      "                ('baggingclassifier',\n",
      "                 BaggingClassifier(base_estimator=HistGradientBoostingClassifier(l2_regularization=0.0,\n",
      "                                                                                 learning_rate=0.1,\n",
      "                                                                                 loss='auto',\n",
      "                                                                                 max_bins=256,\n",
      "                                                                                 max_depth=2,\n",
      "                                                                                 max_iter=22,\n",
      "                                                                                 max_leaf_nodes=31,\n",
      "                                                                                 min_samples_leaf=20,\n",
      "                                                                                 n_iter_no_change=None,\n",
      "                                                                                 random_state=None,\n",
      "                                                                                 scoring=None,\n",
      "                                                                                 tol=1e-07,\n",
      "                                                                                 validation_fraction=0.1,\n",
      "                                                                                 verbose=0),\n",
      "                                   bootstrap=True, bootstrap_features=False,\n",
      "                                   max_features=1.0, max_samples=1.0,\n",
      "                                   n_estimators=22, n_jobs=None,\n",
      "                                   oob_score=False, random_state=None,\n",
      "                                   verbose=0, warm_start=False))],\n",
      "         verbose=False), metrics={'train_cm': array([[4644,   40,  142,  549,   73,    1,  496,    3,   71,    0],\n",
      "       [  10, 5644,   13,  203,   25,    0,   56,    0,   13,    0],\n",
      "       [  54,    7, 4260,   78, 1009,    0,  499,    1,   47,    0],\n",
      "       [ 122,  185,   37, 5109,  229,    6,  269,    1,   27,    3],\n",
      "       [  16,    9,  750,  424, 4345,    0,  444,    0,   39,    1],\n",
      "       [   2,    0,    0,   14,    0, 5203,    1,  454,   94,  239],\n",
      "       [ 984,    6,  686,  406,  993,    3, 2812,    1,  116,    2],\n",
      "       [   0,    0,    0,    0,    0,  230,    0, 5187,   34,  552],\n",
      "       [  29,    4,   28,  162,   46,   79,  142,   14, 5483,   17],\n",
      "       [   0,    3,    3,   14,    3,  125,    2,  361,   13, 5499]]), 'train_acc': 0.8031, 'test_cm': array([[735,   9,  19, 104,  19,   1,  80,   0,  14,   0],\n",
      "       [  2, 971,   2,  43,   3,   0,  13,   0,   2,   0],\n",
      "       [ 15,   1, 735,  18, 180,   0,  89,   0,   6,   1],\n",
      "       [ 21,  25,  10, 864,  40,   1,  49,   0,   2,   0],\n",
      "       [  0,   1, 119,  67, 703,   0,  73,   0,   7,   2],\n",
      "       [  0,   0,   0,   1,   0, 843,   0,  89,  20,  40],\n",
      "       [171,   4, 104,  70, 152,   0, 463,   1,  25,   1],\n",
      "       [  0,   0,   0,   0,   0,  49,   0, 863,   9,  76],\n",
      "       [  8,   2,   3,  25,   7,  12,  27,   3, 902,   7],\n",
      "       [  0,   0,   1,   0,   0,  20,   0,  62,   1, 893]]), 'test_acc': 0.7972})\n"
     ]
    }
   ],
   "source": [
    "print(out)"
   ]
  }
 ],
 "metadata": {
  "kernelspec": {
   "display_name": "Python 3",
   "language": "python",
   "name": "python3"
  }
 },
 "nbformat": 4,
 "nbformat_minor": 4
}
