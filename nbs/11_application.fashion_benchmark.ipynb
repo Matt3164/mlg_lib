{
 "cells": [
  {
   "cell_type": "markdown",
   "metadata": {},
   "source": [
    "# Benchmark image features on Fashion MNIST\n",
    "\n",
    "> Utilities for benchmarking ML on FMNIST"
   ]
  },
  {
   "cell_type": "code",
   "execution_count": null,
   "metadata": {},
   "outputs": [],
   "source": [
    "import numpy as np\n",
    "from mlg_lib.ml_utils import LambdaRow\n",
    "from numpy import ndarray\n",
    "from sklearn.pipeline import make_pipeline\n",
    "from sklearn.ensemble import RandomForestClassifier\n",
    "from sklearn.metrics import confusion_matrix, accuracy_score\n",
    "from skimage.feature import hog\n",
    "from skimage.feature import daisy"
   ]
  },
  {
   "cell_type": "code",
   "execution_count": null,
   "metadata": {},
   "outputs": [],
   "source": [
    "def flatten(arr: ndarray)->ndarray:\n",
    "    return arr.flatten()\n",
    "\n",
    "\n",
    "def hog_features(arr: ndarray)->ndarray:\n",
    "    return hog(arr,\n",
    "               orientations=8,\n",
    "               pixels_per_cell=(8, 8),\n",
    "               cells_per_block=(2, 2),\n",
    "               block_norm=\"L2\",\n",
    "               transform_sqrt=True,\n",
    "               feature_vector=True)\n",
    "\n",
    "\n",
    "def daisy_features(x):\n",
    "    \n",
    "    orientations=8\n",
    "    histograms=6\n",
    "    step, radius=13, 7\n",
    "\n",
    "    return daisy(x, step=step, radius=radius, rings=2, histograms=histograms, orientations=orientations).flatten()"
   ]
  },
  {
   "cell_type": "markdown",
   "metadata": {},
   "source": [
    "## Loading data"
   ]
  },
  {
   "cell_type": "code",
   "execution_count": null,
   "metadata": {},
   "outputs": [],
   "source": [
    "from sklearn.datasets import fetch_openml\n",
    "from sklearn.model_selection import train_test_split\n",
    "\n",
    "data = fetch_openml(\"Fashion-MNIST\", data_home=\"/home/matthieu/sklearn_data\")\n",
    "\n",
    "X = data[\"data\"].reshape(-1,28,28)\n",
    "Y = data[\"target\"]\n",
    "\n",
    "xtrain, xtest, ytrain, ytest = train_test_split(X, Y, train_size=60000, random_state=13)"
   ]
  },
  {
   "cell_type": "markdown",
   "metadata": {},
   "source": [
    "## Raw pixel values"
   ]
  },
  {
   "cell_type": "markdown",
   "metadata": {},
   "source": [
    "### Fitting classifier"
   ]
  },
  {
   "cell_type": "code",
   "execution_count": null,
   "metadata": {},
   "outputs": [
    {
     "data": {
      "text/plain": [
       "Pipeline(memory=None,\n",
       "         steps=[('lambdarow',\n",
       "                 LambdaRow(row_func=<function flatten at 0x7f8fe569bae8>)),\n",
       "                ('randomforestclassifier',\n",
       "                 RandomForestClassifier(bootstrap=True, class_weight=None,\n",
       "                                        criterion='gini', max_depth=None,\n",
       "                                        max_features='log2',\n",
       "                                        max_leaf_nodes=None,\n",
       "                                        min_impurity_decrease=0.0,\n",
       "                                        min_impurity_split=None,\n",
       "                                        min_samples_leaf=1, min_samples_split=2,\n",
       "                                        min_weight_fraction_leaf=0.0,\n",
       "                                        n_estimators=100, n_jobs=None,\n",
       "                                        oob_score=False, random_state=None,\n",
       "                                        verbose=0, warm_start=False))],\n",
       "         verbose=False)"
      ]
     },
     "execution_count": null,
     "metadata": {},
     "output_type": "execute_result"
    }
   ],
   "source": [
    "pipe = make_pipeline(\n",
    "    LambdaRow(flatten),\n",
    "    RandomForestClassifier(max_depth=None, max_features=\"log2\", n_estimators=100)\n",
    ")\n",
    "\n",
    "pipe.fit(xtrain, ytrain)"
   ]
  },
  {
   "cell_type": "markdown",
   "metadata": {},
   "source": [
    "### Evalutation"
   ]
  },
  {
   "cell_type": "code",
   "execution_count": null,
   "metadata": {},
   "outputs": [
    {
     "data": {
      "text/plain": [
       "array([[5986,    0,    0,    0,    0,    0,    0,    0,    0,    0],\n",
       "       [   0, 5979,    0,    0,    0,    0,    0,    0,    0,    0],\n",
       "       [   0,    0, 6000,    0,    0,    0,    0,    0,    0,    0],\n",
       "       [   0,    0,    0, 6034,    0,    0,    0,    0,    0,    0],\n",
       "       [   0,    0,    0,    0, 5997,    0,    0,    0,    0,    0],\n",
       "       [   0,    0,    0,    0,    0, 5987,    0,    0,    0,    0],\n",
       "       [   0,    0,    0,    0,    0,    0, 6023,    0,    0,    0],\n",
       "       [   0,    0,    0,    0,    0,    0,    0, 5980,    0,    0],\n",
       "       [   0,    0,    0,    0,    0,    0,    0,    0, 6004,    0],\n",
       "       [   0,    0,    0,    0,    0,    0,    0,    0,    0, 6010]])"
      ]
     },
     "execution_count": null,
     "metadata": {},
     "output_type": "execute_result"
    }
   ],
   "source": [
    "confusion_matrix(pipe.predict(xtrain), ytrain)"
   ]
  },
  {
   "cell_type": "code",
   "execution_count": null,
   "metadata": {},
   "outputs": [
    {
     "data": {
      "text/plain": [
       "array([[877,   1,   9,  25,   2,   0, 168,   0,   2,   0],\n",
       "       [  0, 988,   0,   1,   2,   0,   1,   0,   1,   0],\n",
       "       [ 14,   3, 832,   5,  72,   0, 116,   0,   8,   0],\n",
       "       [ 33,  25,   9, 879,  34,   0,  35,   0,   2,   0],\n",
       "       [  6,   0,  99,  20, 843,   0,  86,   0,   7,   0],\n",
       "       [  1,   0,   0,   0,   0, 968,   0,  11,   3,  14],\n",
       "       [ 76,   4,  45,  33,  45,   0, 560,   0,  13,   1],\n",
       "       [  0,   0,   0,   0,   0,  30,   0, 963,   1,  43],\n",
       "       [  7,   0,   6,   3,   4,   3,  11,   0, 957,   0],\n",
       "       [  0,   0,   0,   0,   1,  12,   0,  46,   2, 932]])"
      ]
     },
     "execution_count": null,
     "metadata": {},
     "output_type": "execute_result"
    }
   ],
   "source": [
    "confusion_matrix(pipe.predict(xtest), ytest)"
   ]
  },
  {
   "cell_type": "code",
   "execution_count": null,
   "metadata": {},
   "outputs": [
    {
     "data": {
      "text/plain": [
       "0.8799"
      ]
     },
     "execution_count": null,
     "metadata": {},
     "output_type": "execute_result"
    }
   ],
   "source": [
    "accuracy_score(pipe.predict(xtest), ytest)"
   ]
  },
  {
   "cell_type": "markdown",
   "metadata": {},
   "source": [
    "## HOG"
   ]
  },
  {
   "cell_type": "code",
   "execution_count": null,
   "metadata": {},
   "outputs": [
    {
     "data": {
      "text/plain": [
       "Pipeline(memory=None,\n",
       "         steps=[('lambdarow',\n",
       "                 LambdaRow(row_func=<function hog_features at 0x7fc422ac4598>)),\n",
       "                ('randomforestclassifier',\n",
       "                 RandomForestClassifier(bootstrap=True, class_weight=None,\n",
       "                                        criterion='gini', max_depth=None,\n",
       "                                        max_features='log2',\n",
       "                                        max_leaf_nodes=None,\n",
       "                                        min_impurity_decrease=0.0,\n",
       "                                        min_impurity_split=None,\n",
       "                                        min_samples_leaf=1, min_samples_split=2,\n",
       "                                        min_weight_fraction_leaf=0.0,\n",
       "                                        n_estimators=100, n_jobs=None,\n",
       "                                        oob_score=False, random_state=None,\n",
       "                                        verbose=0, warm_start=False))],\n",
       "         verbose=False)"
      ]
     },
     "execution_count": null,
     "metadata": {},
     "output_type": "execute_result"
    }
   ],
   "source": [
    "pipe = make_pipeline(\n",
    "    LambdaRow(hog_features),\n",
    "    RandomForestClassifier(max_depth=None, max_features=\"log2\", n_estimators=100)\n",
    ")\n",
    "\n",
    "pipe.fit(xtrain, ytrain)"
   ]
  },
  {
   "cell_type": "markdown",
   "metadata": {},
   "source": [
    "### Evaluation"
   ]
  },
  {
   "cell_type": "code",
   "execution_count": null,
   "metadata": {},
   "outputs": [
    {
     "data": {
      "text/plain": [
       "array([[6000,    0,    0,    0,    0,    0,    0,    0,    0,    0],\n",
       "       [   0, 6000,    0,    0,    0,    0,    0,    0,    0,    0],\n",
       "       [   0,    0, 6000,    0,    0,    0,    0,    0,    0,    0],\n",
       "       [   0,    0,    0, 6000,    0,    0,    0,    0,    0,    0],\n",
       "       [   0,    0,    0,    0, 6000,    0,    0,    0,    0,    0],\n",
       "       [   0,    0,    0,    0,    0, 6000,    0,    0,    0,    0],\n",
       "       [   0,    0,    0,    0,    0,    0, 6000,    0,    0,    0],\n",
       "       [   0,    0,    0,    0,    0,    0,    0, 6000,    0,    1],\n",
       "       [   0,    0,    0,    0,    0,    0,    0,    0, 6000,    0],\n",
       "       [   0,    0,    0,    0,    0,    0,    0,    0,    0, 5999]])"
      ]
     },
     "execution_count": null,
     "metadata": {},
     "output_type": "execute_result"
    }
   ],
   "source": [
    "confusion_matrix(pipe.predict(xtrain), ytrain)"
   ]
  },
  {
   "cell_type": "code",
   "execution_count": null,
   "metadata": {},
   "outputs": [
    {
     "data": {
      "text/plain": [
       "array([[846,   0,  16,  19,   2,   0, 179,   0,   4,   1],\n",
       "       [  2, 949,   0,  10,   0,   0,   2,   0,   1,   0],\n",
       "       [ 38,   5, 743,  25, 100,   0, 106,   0,   7,   0],\n",
       "       [ 33,  33,   8, 864,  40,   1,  38,   0,   8,   0],\n",
       "       [  5,   4, 128,  37, 765,   0, 122,   0,   6,   0],\n",
       "       [  0,   0,   0,   0,   0, 948,   1,  63,   3,  11],\n",
       "       [ 61,   6,  97,  39,  86,   0, 531,   0,   8,   0],\n",
       "       [  0,   0,   0,   0,   0,  41,   0, 902,   2,  41],\n",
       "       [ 15,   3,   8,   6,   7,   1,  21,   0, 960,   1],\n",
       "       [  0,   0,   0,   0,   0,   9,   0,  35,   1, 946]])"
      ]
     },
     "execution_count": null,
     "metadata": {},
     "output_type": "execute_result"
    }
   ],
   "source": [
    "confusion_matrix(pipe.predict(xtest), ytest)"
   ]
  },
  {
   "cell_type": "code",
   "execution_count": null,
   "metadata": {},
   "outputs": [
    {
     "data": {
      "text/plain": [
       "0.8454"
      ]
     },
     "execution_count": null,
     "metadata": {},
     "output_type": "execute_result"
    }
   ],
   "source": [
    "accuracy_score(pipe.predict(xtest), ytest)"
   ]
  },
  {
   "cell_type": "markdown",
   "metadata": {},
   "source": [
    "## Daisy"
   ]
  },
  {
   "cell_type": "code",
   "execution_count": null,
   "metadata": {},
   "outputs": [
    {
     "data": {
      "text/plain": [
       "Pipeline(memory=None,\n",
       "         steps=[('lambdarow',\n",
       "                 LambdaRow(row_func=<function daisy_features at 0x7fc422ac48c8>)),\n",
       "                ('randomforestclassifier',\n",
       "                 RandomForestClassifier(bootstrap=True, class_weight=None,\n",
       "                                        criterion='gini', max_depth=None,\n",
       "                                        max_features='log2',\n",
       "                                        max_leaf_nodes=None,\n",
       "                                        min_impurity_decrease=0.0,\n",
       "                                        min_impurity_split=None,\n",
       "                                        min_samples_leaf=1, min_samples_split=2,\n",
       "                                        min_weight_fraction_leaf=0.0,\n",
       "                                        n_estimators=100, n_jobs=None,\n",
       "                                        oob_score=False, random_state=None,\n",
       "                                        verbose=0, warm_start=False))],\n",
       "         verbose=False)"
      ]
     },
     "execution_count": null,
     "metadata": {},
     "output_type": "execute_result"
    }
   ],
   "source": [
    "pipe = make_pipeline(\n",
    "    LambdaRow(daisy_features),\n",
    "    RandomForestClassifier(max_depth=None, max_features=\"log2\", n_estimators=100)\n",
    ")\n",
    "\n",
    "pipe.fit(xtrain, ytrain)"
   ]
  },
  {
   "cell_type": "markdown",
   "metadata": {},
   "source": [
    "### Evaluation"
   ]
  },
  {
   "cell_type": "code",
   "execution_count": null,
   "metadata": {},
   "outputs": [
    {
     "data": {
      "text/plain": [
       "array([[6000,    0,    0,    0,    0,    0,    0,    0,    0,    0],\n",
       "       [   0, 6000,    0,    0,    0,    0,    0,    0,    0,    0],\n",
       "       [   0,    0, 6000,    0,    0,    0,    0,    0,    0,    0],\n",
       "       [   0,    0,    0, 6000,    0,    0,    0,    0,    0,    0],\n",
       "       [   0,    0,    0,    0, 6000,    0,    0,    0,    0,    0],\n",
       "       [   0,    0,    0,    0,    0, 6000,    0,    0,    0,    0],\n",
       "       [   0,    0,    0,    0,    0,    0, 6000,    0,    0,    0],\n",
       "       [   0,    0,    0,    0,    0,    0,    0, 6000,    0,    0],\n",
       "       [   0,    0,    0,    0,    0,    0,    0,    0, 6000,    0],\n",
       "       [   0,    0,    0,    0,    0,    0,    0,    0,    0, 6000]])"
      ]
     },
     "execution_count": null,
     "metadata": {},
     "output_type": "execute_result"
    }
   ],
   "source": [
    "confusion_matrix(pipe.predict(xtrain), ytrain)"
   ]
  },
  {
   "cell_type": "code",
   "execution_count": null,
   "metadata": {},
   "outputs": [
    {
     "data": {
      "text/plain": [
       "array([[860,   1,  11,  15,   2,   0, 146,   0,   1,   0],\n",
       "       [  0, 960,   0,   6,   0,   0,   1,   0,   1,   0],\n",
       "       [ 17,   4, 827,   9,  81,   0,  95,   0,   3,   0],\n",
       "       [ 39,  23,   9, 888,  41,   0,  30,   0,   4,   0],\n",
       "       [  3,   4,  82,  38, 818,   0, 105,   0,   5,   0],\n",
       "       [  0,   0,   0,   0,   0, 963,   0,  20,   2,  11],\n",
       "       [ 67,   6,  66,  37,  56,   0, 610,   0,   3,   0],\n",
       "       [  0,   0,   0,   0,   0,  28,   0, 951,   3,  37],\n",
       "       [ 14,   2,   5,   7,   2,   2,  13,   0, 977,   1],\n",
       "       [  0,   0,   0,   0,   0,   7,   0,  29,   1, 951]])"
      ]
     },
     "execution_count": null,
     "metadata": {},
     "output_type": "execute_result"
    }
   ],
   "source": [
    "confusion_matrix(pipe.predict(xtest), ytest)"
   ]
  },
  {
   "cell_type": "code",
   "execution_count": null,
   "metadata": {},
   "outputs": [
    {
     "data": {
      "text/plain": [
       "0.8805"
      ]
     },
     "execution_count": null,
     "metadata": {},
     "output_type": "execute_result"
    }
   ],
   "source": [
    "accuracy_score(pipe.predict(xtest), ytest)"
   ]
  }
 ],
 "metadata": {
  "kernelspec": {
   "display_name": "Python 3",
   "language": "python",
   "name": "python3"
  }
 },
 "nbformat": 4,
 "nbformat_minor": 4
}
