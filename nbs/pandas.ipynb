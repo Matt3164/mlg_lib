{
 "cells": [
  {
   "cell_type": "markdown",
   "metadata": {},
   "source": [
    "# pandas\n",
    "\n",
    "## Creating a DataFrame"
   ]
  },
  {
   "cell_type": "code",
   "execution_count": null,
   "metadata": {},
   "outputs": [
    {
     "name": "stdout",
     "output_type": "stream",
     "text": [
      "       col1      col2\n",
      "0  0.169929  0.648272\n",
      "1  0.190710  0.022588\n",
      "2  0.098521  0.729035\n",
      "3  0.881132  0.698248\n",
      "4  0.810957  0.299920\n",
      "       col1      col2\n",
      "0  0.169929  0.648272\n",
      "1  0.190710  0.022588\n",
      "2  0.098521  0.729035\n",
      "3  0.881132  0.698248\n",
      "4  0.810957  0.299920\n",
      "       col1      col2\n",
      "0  0.169929  0.648272\n",
      "1  0.190710  0.022588\n",
      "2  0.098521  0.729035\n",
      "3  0.881132  0.698248\n",
      "4  0.810957  0.299920\n"
     ]
    }
   ],
   "source": [
    "import numpy as np\n",
    "import pandas\n",
    "\n",
    "col1 = np.random.rand(100)\n",
    "col2 = np.random.rand(100)\n",
    "\n",
    "# From dict of numpy arrays\n",
    "\n",
    "print( pandas.DataFrame.from_dict({\"col1\":col1,\"col2\":col2}).head() ) \n",
    "\n",
    "# From numpy array and list of column names\n",
    "\n",
    "print(pandas.DataFrame.from_records(np.hstack([col1.reshape(-1,1), col2.reshape(-1,1)]), columns=[\"col1\", \"col2\"]).head())\n",
    "\n",
    "# From list of row dict\n",
    "\n",
    "row_dict = list( map(lambda x: {\"col1\": x[0], \"col2\": x[1]} , zip(col1, col2)) )\n",
    "\n",
    "print(pandas.DataFrame.from_records(row_dict).head())\n"
   ]
  },
  {
   "cell_type": "markdown",
   "metadata": {},
   "source": [
    "## Loading/Unloading from CSV"
   ]
  },
  {
   "cell_type": "code",
   "execution_count": null,
   "metadata": {},
   "outputs": [
    {
     "name": "stdout",
     "output_type": "stream",
     "text": [
      "       col1      col2\n",
      "0  0.430950  0.238109\n",
      "1  0.352601  0.975982\n",
      "2  0.233999  0.933767\n",
      "3  0.578285  0.873017\n",
      "4  0.424482  0.349282\n",
      "       col1      col2\n",
      "0  0.430950  0.238109\n",
      "1  0.352601  0.975982\n",
      "2  0.233999  0.933767\n",
      "3  0.578285  0.873017\n",
      "4  0.424482  0.349282\n",
      "       col1      col2\n",
      "0  0.430950  0.238109\n",
      "1  0.352601  0.975982\n",
      "2  0.233999  0.933767\n",
      "3  0.578285  0.873017\n",
      "4  0.424482  0.349282\n"
     ]
    }
   ],
   "source": [
    "import numpy as np\n",
    "import pandas\n",
    "col1 = np.random.rand(100)\n",
    "col2 = np.random.rand(100)\n",
    "\n",
    "df = pandas.DataFrame.from_dict({\"col1\":col1,\"col2\":col2})\n",
    "\n",
    "df.to_csv(\"/tmp/data.csv\")\n",
    "\n",
    "loaded_df = pandas.read_csv(\"/tmp/data.csv\", index_col=0)\n"
   ]
  }
 ],
 "metadata": {
  "kernelspec": {
   "display_name": "Python 3",
   "language": "python",
   "name": "python3"
  }
 },
 "nbformat": 4,
 "nbformat_minor": 1
}
