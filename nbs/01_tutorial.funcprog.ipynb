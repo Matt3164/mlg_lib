{
 "cells": [
  {
   "cell_type": "markdown",
   "metadata": {},
   "source": [
    "# Functionnal programming tutorial\n",
    "> API\n",
    "It is most of the time simpler just to manage functions instead of classes. This is what my experience taught. I have never re-used the classes I wrote because they often were too specific to the usecase I was trying to solve. But functions... They are usually simpler to use because their inputs and outputs are usually standard types.\n",
    "In addition, I realized that I don't even need to write these classes when you know functional programming and use the right tools"
   ]
  },
  {
   "cell_type": "markdown",
   "metadata": {},
   "source": [
    "## functools\n",
    "\n",
    "`partial` is used to freeze some arguments of a function. It is especially useful to create new functions from an initial function by freezing arguments."
   ]
  },
  {
   "cell_type": "code",
   "execution_count": null,
   "metadata": {},
   "outputs": [
    {
     "name": "stdout",
     "output_type": "stream",
     "text": [
      "4\n"
     ]
    }
   ],
   "source": [
    "from functools import partial\n",
    "\n",
    "def add(i1: int, i2: int)->int:\n",
    "    return i1+i2\n",
    "\n",
    "add2 = partial(add, i2=2)\n",
    "\n",
    "print(add2(2))"
   ]
  },
  {
   "cell_type": "markdown",
   "metadata": {},
   "source": [
    "## toolz\n",
    "\n",
    "`toolz` is a wonderful [library](https://toolz.readthedocs.io/en/latest/api.html) containing some utilities and tools to create functionnal pipelines. Among my favorites:\n",
    "\n",
    "- `compose`"
   ]
  },
  {
   "cell_type": "code",
   "execution_count": null,
   "metadata": {},
   "outputs": [],
   "source": [
    "from toolz import compose\n",
    "\n",
    "def func1(i: int)->int:     \n",
    "    return i+2\n",
    "\n",
    "def func2(i: int)->int:\n",
    "    return i - 1\n",
    "\n",
    "func3 = compose(func2, func1)\n",
    "\n",
    "print(func3(3)) # ->4"
   ]
  },
  {
   "cell_type": "markdown",
   "metadata": {},
   "source": [
    "- `pipe`"
   ]
  },
  {
   "cell_type": "code",
   "execution_count": null,
   "metadata": {},
   "outputs": [],
   "source": [
    "from toolz import pipe\n",
    "\n",
    "print( pipe( 3,\n",
    "    lambda x: x+1,\n",
    "    lambda x: x-2,\n",
    "    lambda _: 4,\n",
    "    float\n",
    ")) # -> 4.0"
   ]
  },
  {
   "cell_type": "markdown",
   "metadata": {},
   "source": [
    "You can also combine these utilities to create amazing pipelines."
   ]
  },
  {
   "cell_type": "code",
   "execution_count": null,
   "metadata": {},
   "outputs": [],
   "source": [
    "from toolz import pipe, compose\n",
    "from toolz.curried import map, filter\n",
    "\n",
    "\n",
    "print(pipe( range(100),\n",
    "    filter(lambda x : x%2),\n",
    "    map(compose(lambda x : 2*x, lambda x: x+1)),\n",
    "    filter(lambda x : x<20),\n",
    "    list\n",
    ")) # -> 4,8,12,16\n",
    "\n"
   ]
  }
 ],
 "metadata": {
  "kernelspec": {
   "display_name": "Python 3",
   "language": "python",
   "name": "python3"
  }
 },
 "nbformat": 4,
 "nbformat_minor": 4
}
