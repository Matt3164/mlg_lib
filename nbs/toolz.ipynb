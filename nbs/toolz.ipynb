{
 "cells": [
  {
   "cell_type": "markdown",
   "metadata": {},
   "source": [
    "# Toolz\n",
    "\n",
    "Amazing library to do functionnal programming in Python.\n",
    "\n",
    "## compose"
   ]
  },
  {
   "cell_type": "code",
   "execution_count": null,
   "metadata": {},
   "outputs": [
    {
     "name": "stdout",
     "output_type": "stream",
     "text": [
      "4\n"
     ]
    }
   ],
   "source": [
    "from toolz import compose\n",
    "\n",
    "def func1(i: int)->int:     \n",
    "    return i+2\n",
    "\n",
    "def func2(i: int)->int:\n",
    "    return i - 1\n",
    "\n",
    "func3 = compose(func2, func1)\n",
    "\n",
    "print(func3(3)) # ->4"
   ]
  },
  {
   "cell_type": "markdown",
   "metadata": {},
   "source": [
    "## pipe\n",
    "\n",
    "Apply successive functions on value"
   ]
  },
  {
   "cell_type": "code",
   "execution_count": null,
   "metadata": {},
   "outputs": [
    {
     "name": "stdout",
     "output_type": "stream",
     "text": [
      "4.0\n"
     ]
    }
   ],
   "source": [
    "from toolz import pipe\n",
    "\n",
    "print( pipe( 3,\n",
    "    lambda x: x+1,\n",
    "    lambda x: x-2,\n",
    "    lambda _: 4,\n",
    "    float\n",
    ")) # -> 4.0"
   ]
  },
  {
   "cell_type": "markdown",
   "metadata": {},
   "source": [
    "Full example"
   ]
  },
  {
   "cell_type": "code",
   "execution_count": null,
   "metadata": {},
   "outputs": [
    {
     "name": "stdout",
     "output_type": "stream",
     "text": [
      "[4, 8, 12, 16]\n"
     ]
    }
   ],
   "source": [
    "from toolz import pipe, compose\n",
    "from toolz.curried import map, filter\n",
    "\n",
    "\n",
    "print(pipe( range(100),\n",
    "    filter(lambda x : x%2),\n",
    "    map(compose(lambda x : 2*x, lambda x: x+1)),\n",
    "    filter(lambda x : x<20),\n",
    "    list\n",
    ")) # -> 4,8,12,16\n",
    "\n"
   ]
  }
 ],
 "metadata": {
  "kernelspec": {
   "display_name": "Python 3",
   "language": "python",
   "name": "python3"
  }
 },
 "nbformat": 4,
 "nbformat_minor": 1
}
