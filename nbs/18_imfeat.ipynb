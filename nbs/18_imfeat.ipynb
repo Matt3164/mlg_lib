{
 "cells": [
  {
   "cell_type": "code",
   "execution_count": null,
   "metadata": {},
   "outputs": [],
   "source": [
    "# default_exp imgfeat"
   ]
  },
  {
   "cell_type": "markdown",
   "metadata": {},
   "source": [
    "# imfeat\n",
    "\n",
    "> Utilities for computing image features."
   ]
  },
  {
   "cell_type": "code",
   "execution_count": null,
   "metadata": {},
   "outputs": [],
   "source": [
    "# export\n",
    "\n",
    "from skimage.feature import hog\n",
    "import attr\n",
    "from typing import Tuple\n",
    "import numpy as np\n",
    "\n",
    "@attr.s\n",
    "class HogFactory(object):\n",
    "    \n",
    "    orientations=attr.ib(type=int, default=8)\n",
    "    pixels_per_cell=attr.ib(type=Tuple[int,int], default=(8, 8))\n",
    "    cells_per_block=attr.ib(type=Tuple[int,int], default=(1, 1))\n",
    "    multichannel=attr.ib(type=bool, default=False)\n",
    "    \n",
    "    def __call__(self, arr: np.ndarray)->np.ndarray:\n",
    "        return hog(arr,\n",
    "               orientations=self.orientations,\n",
    "               pixels_per_cell=self.pixels_per_cell,\n",
    "               cells_per_block=self.cells_per_block,\n",
    "               block_norm=\"L2\",\n",
    "               transform_sqrt=True,\n",
    "               feature_vector=True,\n",
    "               multichannel=self.multichannel\n",
    "                  )"
   ]
  },
  {
   "cell_type": "code",
   "execution_count": null,
   "metadata": {},
   "outputs": [
    {
     "name": "stdout",
     "output_type": "stream",
     "text": [
      "(128,)\n"
     ]
    }
   ],
   "source": [
    "im = np.random.randint(0, 255, size=(32,32))\n",
    "\n",
    "print(HogFactory(orientations=8, pixels_per_cell=(8, 8),cells_per_block=(1, 1), multichannel=False)(im).shape)"
   ]
  },
  {
   "cell_type": "code",
   "execution_count": null,
   "metadata": {},
   "outputs": [],
   "source": [
    "# export\n",
    "\n",
    "from skimage.feature import daisy\n",
    "import attr\n",
    "from typing import Tuple\n",
    "import numpy as np\n",
    "\n",
    "@attr.s\n",
    "class DaisyFactory(object):\n",
    "    \n",
    "    step=attr.ib(type=int, default=8)\n",
    "    radius=attr.ib(type=int, default=8)\n",
    "    rings=attr.ib(type=int, default=2)\n",
    "    histograms=attr.ib(type=int, default=6)\n",
    "    orientations=attr.ib(type=int, default=8)\n",
    "    \n",
    "    def __call__(self, arr: np.ndarray)->np.ndarray:\n",
    "        return daisy(arr, step=self.step, radius=self.radius, rings=self.rings, histograms=self.histograms,\n",
    "                         orientations=self.orientations).flatten()"
   ]
  },
  {
   "cell_type": "code",
   "execution_count": null,
   "metadata": {},
   "outputs": [
    {
     "name": "stdout",
     "output_type": "stream",
     "text": [
      "(416,)\n"
     ]
    },
    {
     "name": "stderr",
     "output_type": "stream",
     "text": [
      "/home/matthieu/anaconda2/envs/pypurr/lib/python3.7/site-packages/skimage/util/dtype.py:135: UserWarning: Possible precision loss when converting from int64 to float64\n",
      "  .format(dtypeobj_in, dtypeobj_out))\n"
     ]
    }
   ],
   "source": [
    "print(DaisyFactory(orientations=8, step=8, radius=8, rings=2)(im).shape)"
   ]
  },
  {
   "cell_type": "code",
   "execution_count": null,
   "metadata": {},
   "outputs": [],
   "source": [
    "# export \n",
    "\n",
    "from numpy import ndarray\n",
    "\n",
    "def flatten(arr: ndarray)->ndarray:\n",
    "    return arr.flatten()"
   ]
  },
  {
   "cell_type": "code",
   "execution_count": null,
   "metadata": {},
   "outputs": [],
   "source": [
    "# export\n",
    "\n",
    "from skimage.feature import local_binary_pattern\n",
    "import attr\n",
    "from typing import Tuple\n",
    "import numpy as np\n",
    "\n",
    "@attr.s\n",
    "class LBPFactory(object):\n",
    "    \n",
    "    radius=attr.ib(type=int, default=8)\n",
    "    \n",
    "    def __call__(self, arr: np.ndarray)->np.ndarray:\n",
    "        return local_binary_pattern(arr, 8*self.radius, self.radius, \"uniform\").flatten()\n",
    "    "
   ]
  },
  {
   "cell_type": "code",
   "execution_count": null,
   "metadata": {},
   "outputs": [
    {
     "name": "stdout",
     "output_type": "stream",
     "text": [
      "(1024,)\n"
     ]
    }
   ],
   "source": [
    "print(LBPFactory(radius=8)(im).shape)"
   ]
  },
  {
   "cell_type": "code",
   "execution_count": null,
   "metadata": {},
   "outputs": [],
   "source": [
    "# export\n",
    "import cv2\n",
    "import numpy as np\n",
    "import attr\n",
    "\n",
    "from toolz import pipe\n",
    "from toolz.curried import map as map_c\n",
    "from itertools import chain\n",
    "\n",
    "kernel = 0.2* np.random.randn(3,3,1024)\n",
    "\n",
    "@attr.s\n",
    "class ConvolutionFeature(object):\n",
    "    kernel = attr.ib(type=np.ndarray)\n",
    "    def __call__(self, arr: np.ndarray)->np.ndarray:\n",
    "        return pipe(\n",
    "                range(self.kernel.shape[-1]),\n",
    "                map_c(lambda k: self.kernel[:,:,k]),\n",
    "                map_c(lambda k: cv2.filter2D(arr, -1, k)),\n",
    "                map_c(lambda out: np.concatenate([ np.array(cv2.meanStdDev(out)).flatten() , np.array([(out>0).mean(axis=(0,1))]) ], axis=0)),\n",
    "                chain.from_iterable,\n",
    "                list,\n",
    "                np.array\n",
    "            )"
   ]
  },
  {
   "cell_type": "markdown",
   "metadata": {},
   "source": [
    "TODO: There seems to be a problem when kernel is over 512"
   ]
  },
  {
   "cell_type": "code",
   "execution_count": null,
   "metadata": {},
   "outputs": [
    {
     "name": "stdout",
     "output_type": "stream",
     "text": [
      "(3072,)\n"
     ]
    }
   ],
   "source": [
    "import numpy as np\n",
    "import cv2\n",
    "from skimage.data import chelsea\n",
    "from skimage.color import rgb2gray\n",
    "from matplotlib.pyplot import subplot, imshow, show, axis\n",
    "import matplotlib.pyplot as plt\n",
    "\n",
    "im = chelsea()\n",
    "gray = rgb2gray(im)\n",
    "\n",
    "kernel = 0.2* np.random.randn(3,3,1024)\n",
    "\n",
    "out = ConvolutionFeature(kernel)(gray)\n",
    "\n",
    "print(out.shape)"
   ]
  }
 ],
 "metadata": {
  "kernelspec": {
   "display_name": "Python 3",
   "language": "python",
   "name": "python3"
  }
 },
 "nbformat": 4,
 "nbformat_minor": 4
}
