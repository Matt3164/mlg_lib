{
 "cells": [
  {
   "cell_type": "code",
   "execution_count": null,
   "metadata": {},
   "outputs": [],
   "source": [
    "# default_exp imgfeat"
   ]
  },
  {
   "cell_type": "markdown",
   "metadata": {},
   "source": [
    "# imfeat\n",
    "\n",
    "> Utilities for computing image features."
   ]
  },
  {
   "cell_type": "code",
   "execution_count": null,
   "metadata": {},
   "outputs": [],
   "source": [
    "# export\n",
    "\n",
    "import attr\n",
    "from typing import Tuple\n",
    "import numpy as np\n",
    "\n",
    "@attr.s\n",
    "class HogFactory(object):\n",
    "    \n",
    "    orientations=attr.ib(type=int, default=8)\n",
    "    pixels_per_cell=attr.ib(type=Tuple[int,int], default=(8, 8))\n",
    "    cells_per_block=attr.ib(type=Tuple[int,int], default=(1, 1))\n",
    "    multichannel=attr.ib(type=bool, default=False)\n",
    "    \n",
    "    def __call__(self, arr: np.ndarray)->np.ndarray:\n",
    "        return hog(arr,\n",
    "               orientations=self.orientations,\n",
    "               pixels_per_cell=self.pixels_per_cell,\n",
    "               cells_per_block=self.cells_per_block,\n",
    "               block_norm=\"L2\",\n",
    "               transform_sqrt=True,\n",
    "               feature_vector=True,\n",
    "               multichannel=self.multichannel\n",
    "                  )"
   ]
  },
  {
   "cell_type": "code",
   "execution_count": null,
   "metadata": {},
   "outputs": [
    {
     "name": "stdout",
     "output_type": "stream",
     "text": [
      "(512,)\n"
     ]
    }
   ],
   "source": [
    "print(HogFactory(orientations=8, pixels_per_cell=(8, 8),cells_per_block=(1, 1), multichannel=False)(im).shape)"
   ]
  }
 ],
 "metadata": {
  "kernelspec": {
   "display_name": "Python 3",
   "language": "python",
   "name": "python3"
  }
 },
 "nbformat": 4,
 "nbformat_minor": 4
}
